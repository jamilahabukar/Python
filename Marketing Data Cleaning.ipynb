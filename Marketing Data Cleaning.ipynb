{
 "cells": [
  {
   "cell_type": "code",
   "execution_count": 1,
   "id": "27d11e3d",
   "metadata": {},
   "outputs": [
    {
     "data": {
      "text/plain": [
       "'/Users/jamilah/Python/Marketing Data'"
      ]
     },
     "execution_count": 1,
     "metadata": {},
     "output_type": "execute_result"
    }
   ],
   "source": [
    "pwd"
   ]
  },
  {
   "cell_type": "code",
   "execution_count": 2,
   "id": "adaa580d",
   "metadata": {},
   "outputs": [
    {
     "data": {
      "text/plain": [
       "'/Users/jamilah/Python'"
      ]
     },
     "execution_count": 2,
     "metadata": {},
     "output_type": "execute_result"
    }
   ],
   "source": [
    "pwd"
   ]
  },
  {
   "cell_type": "code",
   "execution_count": 159,
   "id": "32e18090",
   "metadata": {},
   "outputs": [],
   "source": [
    "import pandas as pd"
   ]
  },
  {
   "cell_type": "code",
   "execution_count": 160,
   "id": "f5dcfb67",
   "metadata": {},
   "outputs": [],
   "source": [
    "file_path= \"/Users/jamilah/Python/marketing_campaign_data_py.csv\""
   ]
  },
  {
   "cell_type": "code",
   "execution_count": 161,
   "id": "a18f5bcb",
   "metadata": {},
   "outputs": [
    {
     "name": "stdout",
     "output_type": "stream",
     "text": [
      "CSV file has been successfully read in.\n"
     ]
    }
   ],
   "source": [
    "df = pd.read_csv(file_path)\n",
    "print (\"CSV file has been successfully read in.\")"
   ]
  },
  {
   "cell_type": "code",
   "execution_count": 162,
   "id": "0c50af28",
   "metadata": {},
   "outputs": [
    {
     "name": "stdout",
     "output_type": "stream",
     "text": [
      "           Date   Campaign Campaign Type  Impressions  Clicks  Conversions  \\\n",
      "0      01/01/23   SnapChat   Retargeting       102704    1593          157   \n",
      "1      01/01/23    YouTube   Retargeting        83904    1798          110   \n",
      "2      01/01/23     TikTok   Prospecting        77023    2644          261   \n",
      "3      01/01/23    YouTube   Retargeting        34385    1570           42   \n",
      "4      01/01/23    YouTube   Prospecting        78641    2731           11   \n",
      "...         ...        ...           ...          ...     ...          ...   \n",
      "19995  29/11/23   SnapChat   Prospecting        91465    1201           46   \n",
      "19996  29/11/23   Facebook   Prospecting        15414     134          173   \n",
      "19997  29/11/23   SnapChat   Prospecting        68686    1964          134   \n",
      "19998  29/11/23  Instagram   Retargeting        91967     365           29   \n",
      "19999  30/11/23   Facebook   Prospecting        51634     294          208   \n",
      "\n",
      "          Revenue       Cost            Region AdCreative  \n",
      "0       $3,910.74  $2,101.08     East Midlands  CreativeC  \n",
      "1      $11,700.93  $6,955.66     East Midlands  CreativeC  \n",
      "2       $9,756.09  $1,471.76        North East  CreativeB  \n",
      "3       $4,341.76    $101.55            London  CreativeC  \n",
      "4       $8,860.43  $1,337.07     West Midlands  CreativeA  \n",
      "...           ...        ...               ...        ...  \n",
      "19995     $803.95  $1,461.74  Northern Ireland  CreativeA  \n",
      "19996   $7,311.93  $4,559.23            London  CreativeC  \n",
      "19997   $3,601.11  $3,650.29          Scotland  CreativeB  \n",
      "19998   $7,372.90    $323.18     West Midlands  CreativeB  \n",
      "19999   $8,721.89  $6,925.09            London  CreativeC  \n",
      "\n",
      "[20000 rows x 10 columns]\n"
     ]
    }
   ],
   "source": [
    "print(df)"
   ]
  },
  {
   "cell_type": "code",
   "execution_count": 163,
   "id": "62377383",
   "metadata": {},
   "outputs": [
    {
     "name": "stdout",
     "output_type": "stream",
     "text": [
      "Index(['Date', 'Campaign', 'Campaign Type', 'Impressions', 'Clicks',\n",
      "       'Conversions', 'Revenue', 'Cost', 'Region', 'AdCreative'],\n",
      "      dtype='object')\n"
     ]
    }
   ],
   "source": [
    "print(df.columns)"
   ]
  },
  {
   "cell_type": "code",
   "execution_count": 164,
   "id": "134258d4",
   "metadata": {},
   "outputs": [
    {
     "data": {
      "text/html": [
       "<div>\n",
       "<style scoped>\n",
       "    .dataframe tbody tr th:only-of-type {\n",
       "        vertical-align: middle;\n",
       "    }\n",
       "\n",
       "    .dataframe tbody tr th {\n",
       "        vertical-align: top;\n",
       "    }\n",
       "\n",
       "    .dataframe thead th {\n",
       "        text-align: right;\n",
       "    }\n",
       "</style>\n",
       "<table border=\"1\" class=\"dataframe\">\n",
       "  <thead>\n",
       "    <tr style=\"text-align: right;\">\n",
       "      <th></th>\n",
       "      <th>Date</th>\n",
       "      <th>Campaign</th>\n",
       "      <th>Campaign Type</th>\n",
       "      <th>Impressions</th>\n",
       "      <th>Clicks</th>\n",
       "      <th>Conversions</th>\n",
       "      <th>Revenue</th>\n",
       "      <th>Cost</th>\n",
       "      <th>Region</th>\n",
       "      <th>AdCreative</th>\n",
       "    </tr>\n",
       "  </thead>\n",
       "  <tbody>\n",
       "    <tr>\n",
       "      <th>0</th>\n",
       "      <td>01/01/23</td>\n",
       "      <td>SnapChat</td>\n",
       "      <td>Retargeting</td>\n",
       "      <td>102704</td>\n",
       "      <td>1593</td>\n",
       "      <td>157</td>\n",
       "      <td>$3,910.74</td>\n",
       "      <td>$2,101.08</td>\n",
       "      <td>East Midlands</td>\n",
       "      <td>CreativeC</td>\n",
       "    </tr>\n",
       "    <tr>\n",
       "      <th>1</th>\n",
       "      <td>01/01/23</td>\n",
       "      <td>YouTube</td>\n",
       "      <td>Retargeting</td>\n",
       "      <td>83904</td>\n",
       "      <td>1798</td>\n",
       "      <td>110</td>\n",
       "      <td>$11,700.93</td>\n",
       "      <td>$6,955.66</td>\n",
       "      <td>East Midlands</td>\n",
       "      <td>CreativeC</td>\n",
       "    </tr>\n",
       "    <tr>\n",
       "      <th>2</th>\n",
       "      <td>01/01/23</td>\n",
       "      <td>TikTok</td>\n",
       "      <td>Prospecting</td>\n",
       "      <td>77023</td>\n",
       "      <td>2644</td>\n",
       "      <td>261</td>\n",
       "      <td>$9,756.09</td>\n",
       "      <td>$1,471.76</td>\n",
       "      <td>North East</td>\n",
       "      <td>CreativeB</td>\n",
       "    </tr>\n",
       "    <tr>\n",
       "      <th>3</th>\n",
       "      <td>01/01/23</td>\n",
       "      <td>YouTube</td>\n",
       "      <td>Retargeting</td>\n",
       "      <td>34385</td>\n",
       "      <td>1570</td>\n",
       "      <td>42</td>\n",
       "      <td>$4,341.76</td>\n",
       "      <td>$101.55</td>\n",
       "      <td>London</td>\n",
       "      <td>CreativeC</td>\n",
       "    </tr>\n",
       "    <tr>\n",
       "      <th>4</th>\n",
       "      <td>01/01/23</td>\n",
       "      <td>YouTube</td>\n",
       "      <td>Prospecting</td>\n",
       "      <td>78641</td>\n",
       "      <td>2731</td>\n",
       "      <td>11</td>\n",
       "      <td>$8,860.43</td>\n",
       "      <td>$1,337.07</td>\n",
       "      <td>West Midlands</td>\n",
       "      <td>CreativeA</td>\n",
       "    </tr>\n",
       "  </tbody>\n",
       "</table>\n",
       "</div>"
      ],
      "text/plain": [
       "       Date  Campaign Campaign Type  Impressions  Clicks  Conversions  \\\n",
       "0  01/01/23  SnapChat   Retargeting       102704    1593          157   \n",
       "1  01/01/23   YouTube   Retargeting        83904    1798          110   \n",
       "2  01/01/23    TikTok   Prospecting        77023    2644          261   \n",
       "3  01/01/23   YouTube   Retargeting        34385    1570           42   \n",
       "4  01/01/23   YouTube   Prospecting        78641    2731           11   \n",
       "\n",
       "      Revenue       Cost         Region AdCreative  \n",
       "0   $3,910.74  $2,101.08  East Midlands  CreativeC  \n",
       "1  $11,700.93  $6,955.66  East Midlands  CreativeC  \n",
       "2   $9,756.09  $1,471.76     North East  CreativeB  \n",
       "3   $4,341.76    $101.55         London  CreativeC  \n",
       "4   $8,860.43  $1,337.07  West Midlands  CreativeA  "
      ]
     },
     "execution_count": 164,
     "metadata": {},
     "output_type": "execute_result"
    }
   ],
   "source": [
    "df.head()"
   ]
  },
  {
   "cell_type": "code",
   "execution_count": 165,
   "id": "9ab76b5c",
   "metadata": {},
   "outputs": [
    {
     "name": "stdout",
     "output_type": "stream",
     "text": [
      "Column names campaign, date and cost have been renamed\n"
     ]
    }
   ],
   "source": [
    " df.rename(columns={'Date': 'Day', 'Cost': 'Spend','Campaign': 'Platform'}, inplace=True)\n",
    "print (\"Column names campaign, date and cost have been renamed\")"
   ]
  },
  {
   "cell_type": "code",
   "execution_count": 166,
   "id": "e1b40d9d",
   "metadata": {},
   "outputs": [
    {
     "data": {
      "text/html": [
       "<div>\n",
       "<style scoped>\n",
       "    .dataframe tbody tr th:only-of-type {\n",
       "        vertical-align: middle;\n",
       "    }\n",
       "\n",
       "    .dataframe tbody tr th {\n",
       "        vertical-align: top;\n",
       "    }\n",
       "\n",
       "    .dataframe thead th {\n",
       "        text-align: right;\n",
       "    }\n",
       "</style>\n",
       "<table border=\"1\" class=\"dataframe\">\n",
       "  <thead>\n",
       "    <tr style=\"text-align: right;\">\n",
       "      <th></th>\n",
       "      <th>Day</th>\n",
       "      <th>Platform</th>\n",
       "      <th>Campaign Type</th>\n",
       "      <th>Impressions</th>\n",
       "      <th>Clicks</th>\n",
       "      <th>Conversions</th>\n",
       "      <th>Revenue</th>\n",
       "      <th>Spend</th>\n",
       "      <th>Region</th>\n",
       "      <th>AdCreative</th>\n",
       "    </tr>\n",
       "  </thead>\n",
       "  <tbody>\n",
       "    <tr>\n",
       "      <th>0</th>\n",
       "      <td>01/01/23</td>\n",
       "      <td>SnapChat</td>\n",
       "      <td>Retargeting</td>\n",
       "      <td>102704</td>\n",
       "      <td>1593</td>\n",
       "      <td>157</td>\n",
       "      <td>$3,910.74</td>\n",
       "      <td>$2,101.08</td>\n",
       "      <td>East Midlands</td>\n",
       "      <td>CreativeC</td>\n",
       "    </tr>\n",
       "    <tr>\n",
       "      <th>1</th>\n",
       "      <td>01/01/23</td>\n",
       "      <td>YouTube</td>\n",
       "      <td>Retargeting</td>\n",
       "      <td>83904</td>\n",
       "      <td>1798</td>\n",
       "      <td>110</td>\n",
       "      <td>$11,700.93</td>\n",
       "      <td>$6,955.66</td>\n",
       "      <td>East Midlands</td>\n",
       "      <td>CreativeC</td>\n",
       "    </tr>\n",
       "    <tr>\n",
       "      <th>2</th>\n",
       "      <td>01/01/23</td>\n",
       "      <td>TikTok</td>\n",
       "      <td>Prospecting</td>\n",
       "      <td>77023</td>\n",
       "      <td>2644</td>\n",
       "      <td>261</td>\n",
       "      <td>$9,756.09</td>\n",
       "      <td>$1,471.76</td>\n",
       "      <td>North East</td>\n",
       "      <td>CreativeB</td>\n",
       "    </tr>\n",
       "    <tr>\n",
       "      <th>3</th>\n",
       "      <td>01/01/23</td>\n",
       "      <td>YouTube</td>\n",
       "      <td>Retargeting</td>\n",
       "      <td>34385</td>\n",
       "      <td>1570</td>\n",
       "      <td>42</td>\n",
       "      <td>$4,341.76</td>\n",
       "      <td>$101.55</td>\n",
       "      <td>London</td>\n",
       "      <td>CreativeC</td>\n",
       "    </tr>\n",
       "    <tr>\n",
       "      <th>4</th>\n",
       "      <td>01/01/23</td>\n",
       "      <td>YouTube</td>\n",
       "      <td>Prospecting</td>\n",
       "      <td>78641</td>\n",
       "      <td>2731</td>\n",
       "      <td>11</td>\n",
       "      <td>$8,860.43</td>\n",
       "      <td>$1,337.07</td>\n",
       "      <td>West Midlands</td>\n",
       "      <td>CreativeA</td>\n",
       "    </tr>\n",
       "  </tbody>\n",
       "</table>\n",
       "</div>"
      ],
      "text/plain": [
       "        Day  Platform Campaign Type  Impressions  Clicks  Conversions  \\\n",
       "0  01/01/23  SnapChat   Retargeting       102704    1593          157   \n",
       "1  01/01/23   YouTube   Retargeting        83904    1798          110   \n",
       "2  01/01/23    TikTok   Prospecting        77023    2644          261   \n",
       "3  01/01/23   YouTube   Retargeting        34385    1570           42   \n",
       "4  01/01/23   YouTube   Prospecting        78641    2731           11   \n",
       "\n",
       "      Revenue      Spend         Region AdCreative  \n",
       "0   $3,910.74  $2,101.08  East Midlands  CreativeC  \n",
       "1  $11,700.93  $6,955.66  East Midlands  CreativeC  \n",
       "2   $9,756.09  $1,471.76     North East  CreativeB  \n",
       "3   $4,341.76    $101.55         London  CreativeC  \n",
       "4   $8,860.43  $1,337.07  West Midlands  CreativeA  "
      ]
     },
     "execution_count": 166,
     "metadata": {},
     "output_type": "execute_result"
    }
   ],
   "source": [
    "df.head()"
   ]
  },
  {
   "cell_type": "code",
   "execution_count": 169,
   "id": "0d6bcdb1",
   "metadata": {},
   "outputs": [
    {
     "name": "stdout",
     "output_type": "stream",
     "text": [
      "CTR column has been created.\n"
     ]
    },
    {
     "ename": "TypeError",
     "evalue": "unsupported operand type(s) for /: 'str' and 'int'",
     "output_type": "error",
     "traceback": [
      "\u001b[0;31m---------------------------------------------------------------------------\u001b[0m",
      "\u001b[0;31mTypeError\u001b[0m                                 Traceback (most recent call last)",
      "File \u001b[0;32m~/anaconda3/lib/python3.11/site-packages/pandas/core/ops/array_ops.py:171\u001b[0m, in \u001b[0;36m_na_arithmetic_op\u001b[0;34m(left, right, op, is_cmp)\u001b[0m\n\u001b[1;32m    170\u001b[0m \u001b[38;5;28;01mtry\u001b[39;00m:\n\u001b[0;32m--> 171\u001b[0m     result \u001b[38;5;241m=\u001b[39m func(left, right)\n\u001b[1;32m    172\u001b[0m \u001b[38;5;28;01mexcept\u001b[39;00m \u001b[38;5;167;01mTypeError\u001b[39;00m:\n",
      "File \u001b[0;32m~/anaconda3/lib/python3.11/site-packages/pandas/core/computation/expressions.py:239\u001b[0m, in \u001b[0;36mevaluate\u001b[0;34m(op, a, b, use_numexpr)\u001b[0m\n\u001b[1;32m    237\u001b[0m     \u001b[38;5;28;01mif\u001b[39;00m use_numexpr:\n\u001b[1;32m    238\u001b[0m         \u001b[38;5;66;03m# error: \"None\" not callable\u001b[39;00m\n\u001b[0;32m--> 239\u001b[0m         \u001b[38;5;28;01mreturn\u001b[39;00m _evaluate(op, op_str, a, b)  \u001b[38;5;66;03m# type: ignore[misc]\u001b[39;00m\n\u001b[1;32m    240\u001b[0m \u001b[38;5;28;01mreturn\u001b[39;00m _evaluate_standard(op, op_str, a, b)\n",
      "File \u001b[0;32m~/anaconda3/lib/python3.11/site-packages/pandas/core/computation/expressions.py:128\u001b[0m, in \u001b[0;36m_evaluate_numexpr\u001b[0;34m(op, op_str, a, b)\u001b[0m\n\u001b[1;32m    127\u001b[0m \u001b[38;5;28;01mif\u001b[39;00m result \u001b[38;5;129;01mis\u001b[39;00m \u001b[38;5;28;01mNone\u001b[39;00m:\n\u001b[0;32m--> 128\u001b[0m     result \u001b[38;5;241m=\u001b[39m _evaluate_standard(op, op_str, a, b)\n\u001b[1;32m    130\u001b[0m \u001b[38;5;28;01mreturn\u001b[39;00m result\n",
      "File \u001b[0;32m~/anaconda3/lib/python3.11/site-packages/pandas/core/computation/expressions.py:70\u001b[0m, in \u001b[0;36m_evaluate_standard\u001b[0;34m(op, op_str, a, b)\u001b[0m\n\u001b[1;32m     69\u001b[0m     _store_test_result(\u001b[38;5;28;01mFalse\u001b[39;00m)\n\u001b[0;32m---> 70\u001b[0m \u001b[38;5;28;01mreturn\u001b[39;00m op(a, b)\n",
      "\u001b[0;31mTypeError\u001b[0m: unsupported operand type(s) for /: 'str' and 'int'",
      "\nDuring handling of the above exception, another exception occurred:\n",
      "\u001b[0;31mTypeError\u001b[0m                                 Traceback (most recent call last)",
      "Cell \u001b[0;32mIn[169], line 8\u001b[0m\n\u001b[1;32m      2\u001b[0m \u001b[38;5;28mprint\u001b[39m (\u001b[38;5;124m\"\u001b[39m\u001b[38;5;124mCTR column has been created.\u001b[39m\u001b[38;5;124m\"\u001b[39m)\n\u001b[1;32m      6\u001b[0m df[\u001b[38;5;124m'\u001b[39m\u001b[38;5;124mSpend\u001b[39m\u001b[38;5;124m'\u001b[39m] \u001b[38;5;241m=\u001b[39m df[\u001b[38;5;124m'\u001b[39m\u001b[38;5;124mSpend\u001b[39m\u001b[38;5;124m'\u001b[39m]\u001b[38;5;241m.\u001b[39mstr\u001b[38;5;241m.\u001b[39mreplace(\u001b[38;5;124m'\u001b[39m\u001b[38;5;124m[\u001b[39m\u001b[38;5;124m\\\u001b[39m\u001b[38;5;124m$,]\u001b[39m\u001b[38;5;124m'\u001b[39m,\u001b[38;5;124m\"\u001b[39m\u001b[38;5;124m\"\u001b[39m,regex\u001b[38;5;241m=\u001b[39m\u001b[38;5;28;01mTrue\u001b[39;00m)\n\u001b[0;32m----> 8\u001b[0m df[\u001b[38;5;124m\"\u001b[39m\u001b[38;5;124mCPA\u001b[39m\u001b[38;5;124m\"\u001b[39m] \u001b[38;5;241m=\u001b[39m df[\u001b[38;5;124m\"\u001b[39m\u001b[38;5;124mSpend\u001b[39m\u001b[38;5;124m\"\u001b[39m]\u001b[38;5;241m/\u001b[39mdf[\u001b[38;5;124m\"\u001b[39m\u001b[38;5;124mConversions\u001b[39m\u001b[38;5;124m\"\u001b[39m]\n\u001b[1;32m      9\u001b[0m \u001b[38;5;28mprint\u001b[39m (\u001b[38;5;124m\"\u001b[39m\u001b[38;5;124mCPA column has been created\u001b[39m\u001b[38;5;124m\"\u001b[39m)\n\u001b[1;32m     14\u001b[0m df[\u001b[38;5;124m'\u001b[39m\u001b[38;5;124mCPC\u001b[39m\u001b[38;5;124m'\u001b[39m]\u001b[38;5;241m=\u001b[39m df[\u001b[38;5;124m'\u001b[39m\u001b[38;5;124mSpend\u001b[39m\u001b[38;5;124m'\u001b[39m]\u001b[38;5;241m/\u001b[39m df[\u001b[38;5;124m'\u001b[39m\u001b[38;5;124mClicks\u001b[39m\u001b[38;5;124m'\u001b[39m]\n",
      "File \u001b[0;32m~/anaconda3/lib/python3.11/site-packages/pandas/core/ops/common.py:81\u001b[0m, in \u001b[0;36m_unpack_zerodim_and_defer.<locals>.new_method\u001b[0;34m(self, other)\u001b[0m\n\u001b[1;32m     77\u001b[0m             \u001b[38;5;28;01mreturn\u001b[39;00m \u001b[38;5;28mNotImplemented\u001b[39m\n\u001b[1;32m     79\u001b[0m other \u001b[38;5;241m=\u001b[39m item_from_zerodim(other)\n\u001b[0;32m---> 81\u001b[0m \u001b[38;5;28;01mreturn\u001b[39;00m method(\u001b[38;5;28mself\u001b[39m, other)\n",
      "File \u001b[0;32m~/anaconda3/lib/python3.11/site-packages/pandas/core/arraylike.py:210\u001b[0m, in \u001b[0;36mOpsMixin.__truediv__\u001b[0;34m(self, other)\u001b[0m\n\u001b[1;32m    208\u001b[0m \u001b[38;5;129m@unpack_zerodim_and_defer\u001b[39m(\u001b[38;5;124m\"\u001b[39m\u001b[38;5;124m__truediv__\u001b[39m\u001b[38;5;124m\"\u001b[39m)\n\u001b[1;32m    209\u001b[0m \u001b[38;5;28;01mdef\u001b[39;00m \u001b[38;5;21m__truediv__\u001b[39m(\u001b[38;5;28mself\u001b[39m, other):\n\u001b[0;32m--> 210\u001b[0m     \u001b[38;5;28;01mreturn\u001b[39;00m \u001b[38;5;28mself\u001b[39m\u001b[38;5;241m.\u001b[39m_arith_method(other, operator\u001b[38;5;241m.\u001b[39mtruediv)\n",
      "File \u001b[0;32m~/anaconda3/lib/python3.11/site-packages/pandas/core/series.py:6112\u001b[0m, in \u001b[0;36mSeries._arith_method\u001b[0;34m(self, other, op)\u001b[0m\n\u001b[1;32m   6110\u001b[0m \u001b[38;5;28;01mdef\u001b[39;00m \u001b[38;5;21m_arith_method\u001b[39m(\u001b[38;5;28mself\u001b[39m, other, op):\n\u001b[1;32m   6111\u001b[0m     \u001b[38;5;28mself\u001b[39m, other \u001b[38;5;241m=\u001b[39m ops\u001b[38;5;241m.\u001b[39malign_method_SERIES(\u001b[38;5;28mself\u001b[39m, other)\n\u001b[0;32m-> 6112\u001b[0m     \u001b[38;5;28;01mreturn\u001b[39;00m base\u001b[38;5;241m.\u001b[39mIndexOpsMixin\u001b[38;5;241m.\u001b[39m_arith_method(\u001b[38;5;28mself\u001b[39m, other, op)\n",
      "File \u001b[0;32m~/anaconda3/lib/python3.11/site-packages/pandas/core/base.py:1348\u001b[0m, in \u001b[0;36mIndexOpsMixin._arith_method\u001b[0;34m(self, other, op)\u001b[0m\n\u001b[1;32m   1345\u001b[0m rvalues \u001b[38;5;241m=\u001b[39m ensure_wrapped_if_datetimelike(rvalues)\n\u001b[1;32m   1347\u001b[0m \u001b[38;5;28;01mwith\u001b[39;00m np\u001b[38;5;241m.\u001b[39merrstate(\u001b[38;5;28mall\u001b[39m\u001b[38;5;241m=\u001b[39m\u001b[38;5;124m\"\u001b[39m\u001b[38;5;124mignore\u001b[39m\u001b[38;5;124m\"\u001b[39m):\n\u001b[0;32m-> 1348\u001b[0m     result \u001b[38;5;241m=\u001b[39m ops\u001b[38;5;241m.\u001b[39marithmetic_op(lvalues, rvalues, op)\n\u001b[1;32m   1350\u001b[0m \u001b[38;5;28;01mreturn\u001b[39;00m \u001b[38;5;28mself\u001b[39m\u001b[38;5;241m.\u001b[39m_construct_result(result, name\u001b[38;5;241m=\u001b[39mres_name)\n",
      "File \u001b[0;32m~/anaconda3/lib/python3.11/site-packages/pandas/core/ops/array_ops.py:232\u001b[0m, in \u001b[0;36marithmetic_op\u001b[0;34m(left, right, op)\u001b[0m\n\u001b[1;32m    228\u001b[0m     _bool_arith_check(op, left, right)\n\u001b[1;32m    230\u001b[0m     \u001b[38;5;66;03m# error: Argument 1 to \"_na_arithmetic_op\" has incompatible type\u001b[39;00m\n\u001b[1;32m    231\u001b[0m     \u001b[38;5;66;03m# \"Union[ExtensionArray, ndarray[Any, Any]]\"; expected \"ndarray[Any, Any]\"\u001b[39;00m\n\u001b[0;32m--> 232\u001b[0m     res_values \u001b[38;5;241m=\u001b[39m _na_arithmetic_op(left, right, op)  \u001b[38;5;66;03m# type: ignore[arg-type]\u001b[39;00m\n\u001b[1;32m    234\u001b[0m \u001b[38;5;28;01mreturn\u001b[39;00m res_values\n",
      "File \u001b[0;32m~/anaconda3/lib/python3.11/site-packages/pandas/core/ops/array_ops.py:178\u001b[0m, in \u001b[0;36m_na_arithmetic_op\u001b[0;34m(left, right, op, is_cmp)\u001b[0m\n\u001b[1;32m    172\u001b[0m \u001b[38;5;28;01mexcept\u001b[39;00m \u001b[38;5;167;01mTypeError\u001b[39;00m:\n\u001b[1;32m    173\u001b[0m     \u001b[38;5;28;01mif\u001b[39;00m \u001b[38;5;129;01mnot\u001b[39;00m is_cmp \u001b[38;5;129;01mand\u001b[39;00m (is_object_dtype(left\u001b[38;5;241m.\u001b[39mdtype) \u001b[38;5;129;01mor\u001b[39;00m is_object_dtype(right)):\n\u001b[1;32m    174\u001b[0m         \u001b[38;5;66;03m# For object dtype, fallback to a masked operation (only operating\u001b[39;00m\n\u001b[1;32m    175\u001b[0m         \u001b[38;5;66;03m#  on the non-missing values)\u001b[39;00m\n\u001b[1;32m    176\u001b[0m         \u001b[38;5;66;03m# Don't do this for comparisons, as that will handle complex numbers\u001b[39;00m\n\u001b[1;32m    177\u001b[0m         \u001b[38;5;66;03m#  incorrectly, see GH#32047\u001b[39;00m\n\u001b[0;32m--> 178\u001b[0m         result \u001b[38;5;241m=\u001b[39m _masked_arith_op(left, right, op)\n\u001b[1;32m    179\u001b[0m     \u001b[38;5;28;01melse\u001b[39;00m:\n\u001b[1;32m    180\u001b[0m         \u001b[38;5;28;01mraise\u001b[39;00m\n",
      "File \u001b[0;32m~/anaconda3/lib/python3.11/site-packages/pandas/core/ops/array_ops.py:116\u001b[0m, in \u001b[0;36m_masked_arith_op\u001b[0;34m(x, y, op)\u001b[0m\n\u001b[1;32m    114\u001b[0m     \u001b[38;5;66;03m# See GH#5284, GH#5035, GH#19448 for historical reference\u001b[39;00m\n\u001b[1;32m    115\u001b[0m     \u001b[38;5;28;01mif\u001b[39;00m mask\u001b[38;5;241m.\u001b[39many():\n\u001b[0;32m--> 116\u001b[0m         result[mask] \u001b[38;5;241m=\u001b[39m op(xrav[mask], yrav[mask])\n\u001b[1;32m    118\u001b[0m \u001b[38;5;28;01melse\u001b[39;00m:\n\u001b[1;32m    119\u001b[0m     \u001b[38;5;28;01mif\u001b[39;00m \u001b[38;5;129;01mnot\u001b[39;00m is_scalar(y):\n",
      "\u001b[0;31mTypeError\u001b[0m: unsupported operand type(s) for /: 'str' and 'int'"
     ]
    }
   ],
   "source": [
    "df['CTR'] = (df['Clicks'] / df['Impressions'])*100\n",
    "print (\"CTR column has been created.\")\n",
    "\n",
    "\n",
    "\n",
    "df['Spend'] = df['Spend'].str.replace('[\\$,]',\"\",regex=True)\n",
    "\n",
    "df[\"CPA\"] = df[\"Spend\"]/df[\"Conversions\"]\n",
    "print (\"CPA column has been created\")\n",
    "\n",
    "\n",
    "\n",
    "\n",
    "df['CPC']= df['Spend']/ df['Clicks']\n",
    "print(\"CPC column has been created\")\n",
    "\n",
    "print(df.columns)"
   ]
  },
  {
   "cell_type": "code",
   "execution_count": 107,
   "id": "5ebae79c",
   "metadata": {},
   "outputs": [
    {
     "name": "stdout",
     "output_type": "stream",
     "text": [
      "            Day   Platform          Campaign Name Campaign Type  Impressions  \\\n",
      "0      01/01/23   SnapChat   SnapChat-Retargeting   Retargeting       102704   \n",
      "1      01/01/23    YouTube    YouTube-Retargeting   Retargeting        83904   \n",
      "2      01/01/23     TikTok     TikTok-Prospecting   Prospecting        77023   \n",
      "3      01/01/23    YouTube    YouTube-Retargeting   Retargeting        34385   \n",
      "4      01/01/23    YouTube    YouTube-Prospecting   Prospecting        78641   \n",
      "...         ...        ...                    ...           ...          ...   \n",
      "19995  29/11/23   SnapChat   SnapChat-Prospecting   Prospecting        91465   \n",
      "19996  29/11/23   Facebook   Facebook-Prospecting   Prospecting        15414   \n",
      "19997  29/11/23   SnapChat   SnapChat-Prospecting   Prospecting        68686   \n",
      "19998  29/11/23  Instagram  Instagram-Retargeting   Retargeting        91967   \n",
      "19999  30/11/23   Facebook   Facebook-Prospecting   Prospecting        51634   \n",
      "\n",
      "       Clicks  Conversions     Revenue    Spend            Region AdCreative  \\\n",
      "0        1593          157   $3,910.74  2101.08     East Midlands  CreativeC   \n",
      "1        1798          110  $11,700.93  6955.66     East Midlands  CreativeC   \n",
      "2        2644          261   $9,756.09  1471.76        North East  CreativeB   \n",
      "3        1570           42   $4,341.76   101.55            London  CreativeC   \n",
      "4        2731           11   $8,860.43  1337.07     West Midlands  CreativeA   \n",
      "...       ...          ...         ...      ...               ...        ...   \n",
      "19995    1201           46     $803.95  1461.74  Northern Ireland  CreativeA   \n",
      "19996     134          173   $7,311.93  4559.23            London  CreativeC   \n",
      "19997    1964          134   $3,601.11  3650.29          Scotland  CreativeB   \n",
      "19998     365           29   $7,372.90   323.18     West Midlands  CreativeB   \n",
      "19999     294          208   $8,721.89  6925.09            London  CreativeC   \n",
      "\n",
      "            CTR         CPA        CPC         CPM  \n",
      "0      1.551059   13.382675   1.318945   20.457626  \n",
      "1      2.142925   63.233273   3.868554   82.900219  \n",
      "2      3.432741    5.638927   0.556641   19.108059  \n",
      "3      4.565944    2.417857   0.064682    2.953323  \n",
      "4      3.472743  121.551818   0.489590   17.002200  \n",
      "...         ...         ...        ...         ...  \n",
      "19995  1.313071   31.776957   1.217102   15.981414  \n",
      "19996  0.869340   26.353931  34.024104  295.785001  \n",
      "19997  2.859389   27.240970   1.858600   53.144600  \n",
      "19998  0.396881   11.144138   0.885425    3.514087  \n",
      "19999  0.569392   33.293702  23.554728  134.118798  \n",
      "\n",
      "[20000 rows x 15 columns]\n"
     ]
    }
   ],
   "source": [
    "print(df)"
   ]
  },
  {
   "cell_type": "code",
   "execution_count": 108,
   "id": "03fb2e46",
   "metadata": {},
   "outputs": [
    {
     "name": "stdout",
     "output_type": "stream",
     "text": [
      "Campaign Name column has been created\n"
     ]
    }
   ],
   "source": [
    "df['CPM']= (df['Spend']/ df['Impressions']) *1000\n",
    "print(\"Campaign Name column has been created\")"
   ]
  },
  {
   "cell_type": "code",
   "execution_count": 109,
   "id": "0bf2d2f7",
   "metadata": {},
   "outputs": [
    {
     "name": "stdout",
     "output_type": "stream",
     "text": [
      "            Day   Platform          Campaign Name Campaign Type  Impressions  \\\n",
      "0      01/01/23   SnapChat   SnapChat-Retargeting   Retargeting       102704   \n",
      "1      01/01/23    YouTube    YouTube-Retargeting   Retargeting        83904   \n",
      "2      01/01/23     TikTok     TikTok-Prospecting   Prospecting        77023   \n",
      "3      01/01/23    YouTube    YouTube-Retargeting   Retargeting        34385   \n",
      "4      01/01/23    YouTube    YouTube-Prospecting   Prospecting        78641   \n",
      "...         ...        ...                    ...           ...          ...   \n",
      "19995  29/11/23   SnapChat   SnapChat-Prospecting   Prospecting        91465   \n",
      "19996  29/11/23   Facebook   Facebook-Prospecting   Prospecting        15414   \n",
      "19997  29/11/23   SnapChat   SnapChat-Prospecting   Prospecting        68686   \n",
      "19998  29/11/23  Instagram  Instagram-Retargeting   Retargeting        91967   \n",
      "19999  30/11/23   Facebook   Facebook-Prospecting   Prospecting        51634   \n",
      "\n",
      "       Clicks  Conversions     Revenue    Spend            Region AdCreative  \\\n",
      "0        1593          157   $3,910.74  2101.08     East Midlands  CreativeC   \n",
      "1        1798          110  $11,700.93  6955.66     East Midlands  CreativeC   \n",
      "2        2644          261   $9,756.09  1471.76        North East  CreativeB   \n",
      "3        1570           42   $4,341.76   101.55            London  CreativeC   \n",
      "4        2731           11   $8,860.43  1337.07     West Midlands  CreativeA   \n",
      "...       ...          ...         ...      ...               ...        ...   \n",
      "19995    1201           46     $803.95  1461.74  Northern Ireland  CreativeA   \n",
      "19996     134          173   $7,311.93  4559.23            London  CreativeC   \n",
      "19997    1964          134   $3,601.11  3650.29          Scotland  CreativeB   \n",
      "19998     365           29   $7,372.90   323.18     West Midlands  CreativeB   \n",
      "19999     294          208   $8,721.89  6925.09            London  CreativeC   \n",
      "\n",
      "            CTR         CPA        CPC         CPM  \n",
      "0      1.551059   13.382675   1.318945   20.457626  \n",
      "1      2.142925   63.233273   3.868554   82.900219  \n",
      "2      3.432741    5.638927   0.556641   19.108059  \n",
      "3      4.565944    2.417857   0.064682    2.953323  \n",
      "4      3.472743  121.551818   0.489590   17.002200  \n",
      "...         ...         ...        ...         ...  \n",
      "19995  1.313071   31.776957   1.217102   15.981414  \n",
      "19996  0.869340   26.353931  34.024104  295.785001  \n",
      "19997  2.859389   27.240970   1.858600   53.144600  \n",
      "19998  0.396881   11.144138   0.885425    3.514087  \n",
      "19999  0.569392   33.293702  23.554728  134.118798  \n",
      "\n",
      "[20000 rows x 15 columns]\n"
     ]
    }
   ],
   "source": [
    "print(df)"
   ]
  },
  {
   "cell_type": "code",
   "execution_count": 110,
   "id": "87305561",
   "metadata": {},
   "outputs": [
    {
     "name": "stdout",
     "output_type": "stream",
     "text": [
      "Campaign Name column has been created\n"
     ]
    }
   ],
   "source": [
    "df['Campaign Name']= df['Platform'] + \"-\" + df['Campaign Type']\n",
    "print (\"Campaign Name column has been created\")"
   ]
  },
  {
   "cell_type": "code",
   "execution_count": 111,
   "id": "b1898c32",
   "metadata": {},
   "outputs": [
    {
     "name": "stdout",
     "output_type": "stream",
     "text": [
      "            Day   Platform          Campaign Name Campaign Type  Impressions  \\\n",
      "0      01/01/23   SnapChat   SnapChat-Retargeting   Retargeting       102704   \n",
      "1      01/01/23    YouTube    YouTube-Retargeting   Retargeting        83904   \n",
      "2      01/01/23     TikTok     TikTok-Prospecting   Prospecting        77023   \n",
      "3      01/01/23    YouTube    YouTube-Retargeting   Retargeting        34385   \n",
      "4      01/01/23    YouTube    YouTube-Prospecting   Prospecting        78641   \n",
      "...         ...        ...                    ...           ...          ...   \n",
      "19995  29/11/23   SnapChat   SnapChat-Prospecting   Prospecting        91465   \n",
      "19996  29/11/23   Facebook   Facebook-Prospecting   Prospecting        15414   \n",
      "19997  29/11/23   SnapChat   SnapChat-Prospecting   Prospecting        68686   \n",
      "19998  29/11/23  Instagram  Instagram-Retargeting   Retargeting        91967   \n",
      "19999  30/11/23   Facebook   Facebook-Prospecting   Prospecting        51634   \n",
      "\n",
      "       Clicks  Conversions     Revenue    Spend            Region AdCreative  \\\n",
      "0        1593          157   $3,910.74  2101.08     East Midlands  CreativeC   \n",
      "1        1798          110  $11,700.93  6955.66     East Midlands  CreativeC   \n",
      "2        2644          261   $9,756.09  1471.76        North East  CreativeB   \n",
      "3        1570           42   $4,341.76   101.55            London  CreativeC   \n",
      "4        2731           11   $8,860.43  1337.07     West Midlands  CreativeA   \n",
      "...       ...          ...         ...      ...               ...        ...   \n",
      "19995    1201           46     $803.95  1461.74  Northern Ireland  CreativeA   \n",
      "19996     134          173   $7,311.93  4559.23            London  CreativeC   \n",
      "19997    1964          134   $3,601.11  3650.29          Scotland  CreativeB   \n",
      "19998     365           29   $7,372.90   323.18     West Midlands  CreativeB   \n",
      "19999     294          208   $8,721.89  6925.09            London  CreativeC   \n",
      "\n",
      "            CTR         CPA        CPC         CPM  \n",
      "0      1.551059   13.382675   1.318945   20.457626  \n",
      "1      2.142925   63.233273   3.868554   82.900219  \n",
      "2      3.432741    5.638927   0.556641   19.108059  \n",
      "3      4.565944    2.417857   0.064682    2.953323  \n",
      "4      3.472743  121.551818   0.489590   17.002200  \n",
      "...         ...         ...        ...         ...  \n",
      "19995  1.313071   31.776957   1.217102   15.981414  \n",
      "19996  0.869340   26.353931  34.024104  295.785001  \n",
      "19997  2.859389   27.240970   1.858600   53.144600  \n",
      "19998  0.396881   11.144138   0.885425    3.514087  \n",
      "19999  0.569392   33.293702  23.554728  134.118798  \n",
      "\n",
      "[20000 rows x 15 columns]\n"
     ]
    }
   ],
   "source": [
    "print(df)"
   ]
  },
  {
   "cell_type": "code",
   "execution_count": 112,
   "id": "26d93fdc",
   "metadata": {},
   "outputs": [],
   "source": [
    "res = isinstance(\"Spend\", str)"
   ]
  },
  {
   "cell_type": "code",
   "execution_count": 113,
   "id": "2654c3ea",
   "metadata": {},
   "outputs": [
    {
     "name": "stdout",
     "output_type": "stream",
     "text": [
      "Is variable a string ? : True\n"
     ]
    }
   ],
   "source": [
    "print(\"Is variable a string ? : \" + str(res))"
   ]
  },
  {
   "cell_type": "code",
   "execution_count": 128,
   "id": "4af76266",
   "metadata": {},
   "outputs": [
    {
     "ename": "AttributeError",
     "evalue": "Can only use .str accessor with string values!",
     "output_type": "error",
     "traceback": [
      "\u001b[0;31m---------------------------------------------------------------------------\u001b[0m",
      "\u001b[0;31mAttributeError\u001b[0m                            Traceback (most recent call last)",
      "Cell \u001b[0;32mIn[128], line 1\u001b[0m\n\u001b[0;32m----> 1\u001b[0m df[\u001b[38;5;124m'\u001b[39m\u001b[38;5;124mSpend\u001b[39m\u001b[38;5;124m'\u001b[39m] \u001b[38;5;241m=\u001b[39m df[\u001b[38;5;124m'\u001b[39m\u001b[38;5;124mSpend\u001b[39m\u001b[38;5;124m'\u001b[39m]\u001b[38;5;241m.\u001b[39mstr\u001b[38;5;241m.\u001b[39mreplace(\u001b[38;5;124m'\u001b[39m\u001b[38;5;124m[\u001b[39m\u001b[38;5;124m\\\u001b[39m\u001b[38;5;124m$,]\u001b[39m\u001b[38;5;124m'\u001b[39m, \u001b[38;5;124m'\u001b[39m\u001b[38;5;124m'\u001b[39m, regex\u001b[38;5;241m=\u001b[39m\u001b[38;5;28;01mTrue\u001b[39;00m)\u001b[38;5;241m.\u001b[39mastype(\u001b[38;5;28mfloat\u001b[39m)\n\u001b[1;32m      2\u001b[0m df[\u001b[38;5;124m'\u001b[39m\u001b[38;5;124mCPA\u001b[39m\u001b[38;5;124m'\u001b[39m] \u001b[38;5;241m=\u001b[39m df[\u001b[38;5;124m'\u001b[39m\u001b[38;5;124mSpend\u001b[39m\u001b[38;5;124m'\u001b[39m]\u001b[38;5;241m.\u001b[39mstr\u001b[38;5;241m.\u001b[39mreplace(\u001b[38;5;124m'\u001b[39m\u001b[38;5;124m[\u001b[39m\u001b[38;5;124m\\\u001b[39m\u001b[38;5;124m$,]\u001b[39m\u001b[38;5;124m'\u001b[39m, \u001b[38;5;124m'\u001b[39m\u001b[38;5;124m'\u001b[39m, regex\u001b[38;5;241m=\u001b[39m\u001b[38;5;28;01mTrue\u001b[39;00m)\u001b[38;5;241m.\u001b[39mastype(\u001b[38;5;28mfloat\u001b[39m)\n\u001b[1;32m      3\u001b[0m df[\u001b[38;5;124m'\u001b[39m\u001b[38;5;124mRevenue\u001b[39m\u001b[38;5;124m'\u001b[39m] \u001b[38;5;241m=\u001b[39m df[\u001b[38;5;124m'\u001b[39m\u001b[38;5;124mSpend\u001b[39m\u001b[38;5;124m'\u001b[39m]\u001b[38;5;241m.\u001b[39mstr\u001b[38;5;241m.\u001b[39mreplace(\u001b[38;5;124m'\u001b[39m\u001b[38;5;124m[\u001b[39m\u001b[38;5;124m\\\u001b[39m\u001b[38;5;124m$,]\u001b[39m\u001b[38;5;124m'\u001b[39m, \u001b[38;5;124m'\u001b[39m\u001b[38;5;124m'\u001b[39m, regex\u001b[38;5;241m=\u001b[39m\u001b[38;5;28;01mTrue\u001b[39;00m)\u001b[38;5;241m.\u001b[39mastype(\u001b[38;5;28mfloat\u001b[39m)\n",
      "File \u001b[0;32m~/anaconda3/lib/python3.11/site-packages/pandas/core/generic.py:5989\u001b[0m, in \u001b[0;36mNDFrame.__getattr__\u001b[0;34m(self, name)\u001b[0m\n\u001b[1;32m   5982\u001b[0m \u001b[38;5;28;01mif\u001b[39;00m (\n\u001b[1;32m   5983\u001b[0m     name \u001b[38;5;129;01mnot\u001b[39;00m \u001b[38;5;129;01min\u001b[39;00m \u001b[38;5;28mself\u001b[39m\u001b[38;5;241m.\u001b[39m_internal_names_set\n\u001b[1;32m   5984\u001b[0m     \u001b[38;5;129;01mand\u001b[39;00m name \u001b[38;5;129;01mnot\u001b[39;00m \u001b[38;5;129;01min\u001b[39;00m \u001b[38;5;28mself\u001b[39m\u001b[38;5;241m.\u001b[39m_metadata\n\u001b[1;32m   5985\u001b[0m     \u001b[38;5;129;01mand\u001b[39;00m name \u001b[38;5;129;01mnot\u001b[39;00m \u001b[38;5;129;01min\u001b[39;00m \u001b[38;5;28mself\u001b[39m\u001b[38;5;241m.\u001b[39m_accessors\n\u001b[1;32m   5986\u001b[0m     \u001b[38;5;129;01mand\u001b[39;00m \u001b[38;5;28mself\u001b[39m\u001b[38;5;241m.\u001b[39m_info_axis\u001b[38;5;241m.\u001b[39m_can_hold_identifiers_and_holds_name(name)\n\u001b[1;32m   5987\u001b[0m ):\n\u001b[1;32m   5988\u001b[0m     \u001b[38;5;28;01mreturn\u001b[39;00m \u001b[38;5;28mself\u001b[39m[name]\n\u001b[0;32m-> 5989\u001b[0m \u001b[38;5;28;01mreturn\u001b[39;00m \u001b[38;5;28mobject\u001b[39m\u001b[38;5;241m.\u001b[39m\u001b[38;5;21m__getattribute__\u001b[39m(\u001b[38;5;28mself\u001b[39m, name)\n",
      "File \u001b[0;32m~/anaconda3/lib/python3.11/site-packages/pandas/core/accessor.py:224\u001b[0m, in \u001b[0;36mCachedAccessor.__get__\u001b[0;34m(self, obj, cls)\u001b[0m\n\u001b[1;32m    221\u001b[0m \u001b[38;5;28;01mif\u001b[39;00m obj \u001b[38;5;129;01mis\u001b[39;00m \u001b[38;5;28;01mNone\u001b[39;00m:\n\u001b[1;32m    222\u001b[0m     \u001b[38;5;66;03m# we're accessing the attribute of the class, i.e., Dataset.geo\u001b[39;00m\n\u001b[1;32m    223\u001b[0m     \u001b[38;5;28;01mreturn\u001b[39;00m \u001b[38;5;28mself\u001b[39m\u001b[38;5;241m.\u001b[39m_accessor\n\u001b[0;32m--> 224\u001b[0m accessor_obj \u001b[38;5;241m=\u001b[39m \u001b[38;5;28mself\u001b[39m\u001b[38;5;241m.\u001b[39m_accessor(obj)\n\u001b[1;32m    225\u001b[0m \u001b[38;5;66;03m# Replace the property with the accessor object. Inspired by:\u001b[39;00m\n\u001b[1;32m    226\u001b[0m \u001b[38;5;66;03m# https://www.pydanny.com/cached-property.html\u001b[39;00m\n\u001b[1;32m    227\u001b[0m \u001b[38;5;66;03m# We need to use object.__setattr__ because we overwrite __setattr__ on\u001b[39;00m\n\u001b[1;32m    228\u001b[0m \u001b[38;5;66;03m# NDFrame\u001b[39;00m\n\u001b[1;32m    229\u001b[0m \u001b[38;5;28mobject\u001b[39m\u001b[38;5;241m.\u001b[39m\u001b[38;5;21m__setattr__\u001b[39m(obj, \u001b[38;5;28mself\u001b[39m\u001b[38;5;241m.\u001b[39m_name, accessor_obj)\n",
      "File \u001b[0;32m~/anaconda3/lib/python3.11/site-packages/pandas/core/strings/accessor.py:181\u001b[0m, in \u001b[0;36mStringMethods.__init__\u001b[0;34m(self, data)\u001b[0m\n\u001b[1;32m    178\u001b[0m \u001b[38;5;28;01mdef\u001b[39;00m \u001b[38;5;21m__init__\u001b[39m(\u001b[38;5;28mself\u001b[39m, data) \u001b[38;5;241m-\u001b[39m\u001b[38;5;241m>\u001b[39m \u001b[38;5;28;01mNone\u001b[39;00m:\n\u001b[1;32m    179\u001b[0m     \u001b[38;5;28;01mfrom\u001b[39;00m \u001b[38;5;21;01mpandas\u001b[39;00m\u001b[38;5;21;01m.\u001b[39;00m\u001b[38;5;21;01mcore\u001b[39;00m\u001b[38;5;21;01m.\u001b[39;00m\u001b[38;5;21;01marrays\u001b[39;00m\u001b[38;5;21;01m.\u001b[39;00m\u001b[38;5;21;01mstring_\u001b[39;00m \u001b[38;5;28;01mimport\u001b[39;00m StringDtype\n\u001b[0;32m--> 181\u001b[0m     \u001b[38;5;28mself\u001b[39m\u001b[38;5;241m.\u001b[39m_inferred_dtype \u001b[38;5;241m=\u001b[39m \u001b[38;5;28mself\u001b[39m\u001b[38;5;241m.\u001b[39m_validate(data)\n\u001b[1;32m    182\u001b[0m     \u001b[38;5;28mself\u001b[39m\u001b[38;5;241m.\u001b[39m_is_categorical \u001b[38;5;241m=\u001b[39m is_categorical_dtype(data\u001b[38;5;241m.\u001b[39mdtype)\n\u001b[1;32m    183\u001b[0m     \u001b[38;5;28mself\u001b[39m\u001b[38;5;241m.\u001b[39m_is_string \u001b[38;5;241m=\u001b[39m \u001b[38;5;28misinstance\u001b[39m(data\u001b[38;5;241m.\u001b[39mdtype, StringDtype)\n",
      "File \u001b[0;32m~/anaconda3/lib/python3.11/site-packages/pandas/core/strings/accessor.py:235\u001b[0m, in \u001b[0;36mStringMethods._validate\u001b[0;34m(data)\u001b[0m\n\u001b[1;32m    232\u001b[0m inferred_dtype \u001b[38;5;241m=\u001b[39m lib\u001b[38;5;241m.\u001b[39minfer_dtype(values, skipna\u001b[38;5;241m=\u001b[39m\u001b[38;5;28;01mTrue\u001b[39;00m)\n\u001b[1;32m    234\u001b[0m \u001b[38;5;28;01mif\u001b[39;00m inferred_dtype \u001b[38;5;129;01mnot\u001b[39;00m \u001b[38;5;129;01min\u001b[39;00m allowed_types:\n\u001b[0;32m--> 235\u001b[0m     \u001b[38;5;28;01mraise\u001b[39;00m \u001b[38;5;167;01mAttributeError\u001b[39;00m(\u001b[38;5;124m\"\u001b[39m\u001b[38;5;124mCan only use .str accessor with string values!\u001b[39m\u001b[38;5;124m\"\u001b[39m)\n\u001b[1;32m    236\u001b[0m \u001b[38;5;28;01mreturn\u001b[39;00m inferred_dtype\n",
      "\u001b[0;31mAttributeError\u001b[0m: Can only use .str accessor with string values!"
     ]
    }
   ],
   "source": [
    "df['Spend'] = df['Spend'].str.replace('[\\$,]', '', regex=True).astype(float)\n",
    "df['CPA'] = df['Spend'].str.replace('[\\$,]', '', regex=True).astype(float)\n",
    "df['Revenue'] = df['Spend'].str.replace('[\\$,]', '', regex=True).astype(float)\n",
    "df['CPC'] = df['Spend'].str.replace('[\\$,]', '', regex=True).astype(float)\n",
    "df['CPM'] = df['Spend'].str.replace('[\\$,]', '', regex=True).astype(float)"
   ]
  },
  {
   "cell_type": "code",
   "execution_count": 126,
   "id": "b143c2ab",
   "metadata": {},
   "outputs": [
    {
     "ename": "ValueError",
     "evalue": "Unknown format code 'f' for object of type 'str'",
     "output_type": "error",
     "traceback": [
      "\u001b[0;31m---------------------------------------------------------------------------\u001b[0m",
      "\u001b[0;31mValueError\u001b[0m                                Traceback (most recent call last)",
      "Cell \u001b[0;32mIn[126], line 1\u001b[0m\n\u001b[0;32m----> 1\u001b[0m df[\u001b[38;5;124m'\u001b[39m\u001b[38;5;124mCPA\u001b[39m\u001b[38;5;124m'\u001b[39m] \u001b[38;5;241m=\u001b[39m \u001b[38;5;124m'\u001b[39m\u001b[38;5;124m£\u001b[39m\u001b[38;5;124m'\u001b[39m \u001b[38;5;241m+\u001b[39m df[\u001b[38;5;124m'\u001b[39m\u001b[38;5;124mCPA\u001b[39m\u001b[38;5;124m'\u001b[39m]\u001b[38;5;241m.\u001b[39mapply(\u001b[38;5;28;01mlambda\u001b[39;00m x: \u001b[38;5;124m'\u001b[39m\u001b[38;5;132;01m{:.2f}\u001b[39;00m\u001b[38;5;124m'\u001b[39m\u001b[38;5;241m.\u001b[39mformat(x))\n\u001b[1;32m      2\u001b[0m df[\u001b[38;5;124m'\u001b[39m\u001b[38;5;124mCPC\u001b[39m\u001b[38;5;124m'\u001b[39m] \u001b[38;5;241m=\u001b[39m \u001b[38;5;124m'\u001b[39m\u001b[38;5;124m£\u001b[39m\u001b[38;5;124m'\u001b[39m \u001b[38;5;241m+\u001b[39m df[\u001b[38;5;124m'\u001b[39m\u001b[38;5;124mCPC\u001b[39m\u001b[38;5;124m'\u001b[39m]\u001b[38;5;241m.\u001b[39mapply(\u001b[38;5;28;01mlambda\u001b[39;00m x: \u001b[38;5;124m'\u001b[39m\u001b[38;5;132;01m{:.2f}\u001b[39;00m\u001b[38;5;124m'\u001b[39m\u001b[38;5;241m.\u001b[39mformat(x))\n\u001b[1;32m      3\u001b[0m df[\u001b[38;5;124m'\u001b[39m\u001b[38;5;124mCPM\u001b[39m\u001b[38;5;124m'\u001b[39m] \u001b[38;5;241m=\u001b[39m \u001b[38;5;124m'\u001b[39m\u001b[38;5;124m£\u001b[39m\u001b[38;5;124m'\u001b[39m \u001b[38;5;241m+\u001b[39m df[\u001b[38;5;124m'\u001b[39m\u001b[38;5;124mCPM\u001b[39m\u001b[38;5;124m'\u001b[39m]\u001b[38;5;241m.\u001b[39mapply(\u001b[38;5;28;01mlambda\u001b[39;00m x: \u001b[38;5;124m'\u001b[39m\u001b[38;5;132;01m{:.2f}\u001b[39;00m\u001b[38;5;124m'\u001b[39m\u001b[38;5;241m.\u001b[39mformat(x))\n",
      "File \u001b[0;32m~/anaconda3/lib/python3.11/site-packages/pandas/core/series.py:4630\u001b[0m, in \u001b[0;36mSeries.apply\u001b[0;34m(self, func, convert_dtype, args, **kwargs)\u001b[0m\n\u001b[1;32m   4520\u001b[0m \u001b[38;5;28;01mdef\u001b[39;00m \u001b[38;5;21mapply\u001b[39m(\n\u001b[1;32m   4521\u001b[0m     \u001b[38;5;28mself\u001b[39m,\n\u001b[1;32m   4522\u001b[0m     func: AggFuncType,\n\u001b[0;32m   (...)\u001b[0m\n\u001b[1;32m   4525\u001b[0m     \u001b[38;5;241m*\u001b[39m\u001b[38;5;241m*\u001b[39mkwargs,\n\u001b[1;32m   4526\u001b[0m ) \u001b[38;5;241m-\u001b[39m\u001b[38;5;241m>\u001b[39m DataFrame \u001b[38;5;241m|\u001b[39m Series:\n\u001b[1;32m   4527\u001b[0m \u001b[38;5;250m    \u001b[39m\u001b[38;5;124;03m\"\"\"\u001b[39;00m\n\u001b[1;32m   4528\u001b[0m \u001b[38;5;124;03m    Invoke function on values of Series.\u001b[39;00m\n\u001b[1;32m   4529\u001b[0m \n\u001b[0;32m   (...)\u001b[0m\n\u001b[1;32m   4628\u001b[0m \u001b[38;5;124;03m    dtype: float64\u001b[39;00m\n\u001b[1;32m   4629\u001b[0m \u001b[38;5;124;03m    \"\"\"\u001b[39;00m\n\u001b[0;32m-> 4630\u001b[0m     \u001b[38;5;28;01mreturn\u001b[39;00m SeriesApply(\u001b[38;5;28mself\u001b[39m, func, convert_dtype, args, kwargs)\u001b[38;5;241m.\u001b[39mapply()\n",
      "File \u001b[0;32m~/anaconda3/lib/python3.11/site-packages/pandas/core/apply.py:1025\u001b[0m, in \u001b[0;36mSeriesApply.apply\u001b[0;34m(self)\u001b[0m\n\u001b[1;32m   1022\u001b[0m     \u001b[38;5;28;01mreturn\u001b[39;00m \u001b[38;5;28mself\u001b[39m\u001b[38;5;241m.\u001b[39mapply_str()\n\u001b[1;32m   1024\u001b[0m \u001b[38;5;66;03m# self.f is Callable\u001b[39;00m\n\u001b[0;32m-> 1025\u001b[0m \u001b[38;5;28;01mreturn\u001b[39;00m \u001b[38;5;28mself\u001b[39m\u001b[38;5;241m.\u001b[39mapply_standard()\n",
      "File \u001b[0;32m~/anaconda3/lib/python3.11/site-packages/pandas/core/apply.py:1076\u001b[0m, in \u001b[0;36mSeriesApply.apply_standard\u001b[0;34m(self)\u001b[0m\n\u001b[1;32m   1074\u001b[0m     \u001b[38;5;28;01melse\u001b[39;00m:\n\u001b[1;32m   1075\u001b[0m         values \u001b[38;5;241m=\u001b[39m obj\u001b[38;5;241m.\u001b[39mastype(\u001b[38;5;28mobject\u001b[39m)\u001b[38;5;241m.\u001b[39m_values\n\u001b[0;32m-> 1076\u001b[0m         mapped \u001b[38;5;241m=\u001b[39m lib\u001b[38;5;241m.\u001b[39mmap_infer(\n\u001b[1;32m   1077\u001b[0m             values,\n\u001b[1;32m   1078\u001b[0m             f,\n\u001b[1;32m   1079\u001b[0m             convert\u001b[38;5;241m=\u001b[39m\u001b[38;5;28mself\u001b[39m\u001b[38;5;241m.\u001b[39mconvert_dtype,\n\u001b[1;32m   1080\u001b[0m         )\n\u001b[1;32m   1082\u001b[0m \u001b[38;5;28;01mif\u001b[39;00m \u001b[38;5;28mlen\u001b[39m(mapped) \u001b[38;5;129;01mand\u001b[39;00m \u001b[38;5;28misinstance\u001b[39m(mapped[\u001b[38;5;241m0\u001b[39m], ABCSeries):\n\u001b[1;32m   1083\u001b[0m     \u001b[38;5;66;03m# GH#43986 Need to do list(mapped) in order to get treated as nested\u001b[39;00m\n\u001b[1;32m   1084\u001b[0m     \u001b[38;5;66;03m#  See also GH#25959 regarding EA support\u001b[39;00m\n\u001b[1;32m   1085\u001b[0m     \u001b[38;5;28;01mreturn\u001b[39;00m obj\u001b[38;5;241m.\u001b[39m_constructor_expanddim(\u001b[38;5;28mlist\u001b[39m(mapped), index\u001b[38;5;241m=\u001b[39mobj\u001b[38;5;241m.\u001b[39mindex)\n",
      "File \u001b[0;32m~/anaconda3/lib/python3.11/site-packages/pandas/_libs/lib.pyx:2834\u001b[0m, in \u001b[0;36mpandas._libs.lib.map_infer\u001b[0;34m()\u001b[0m\n",
      "Cell \u001b[0;32mIn[126], line 1\u001b[0m, in \u001b[0;36m<lambda>\u001b[0;34m(x)\u001b[0m\n\u001b[0;32m----> 1\u001b[0m df[\u001b[38;5;124m'\u001b[39m\u001b[38;5;124mCPA\u001b[39m\u001b[38;5;124m'\u001b[39m] \u001b[38;5;241m=\u001b[39m \u001b[38;5;124m'\u001b[39m\u001b[38;5;124m£\u001b[39m\u001b[38;5;124m'\u001b[39m \u001b[38;5;241m+\u001b[39m df[\u001b[38;5;124m'\u001b[39m\u001b[38;5;124mCPA\u001b[39m\u001b[38;5;124m'\u001b[39m]\u001b[38;5;241m.\u001b[39mapply(\u001b[38;5;28;01mlambda\u001b[39;00m x: \u001b[38;5;124m'\u001b[39m\u001b[38;5;132;01m{:.2f}\u001b[39;00m\u001b[38;5;124m'\u001b[39m\u001b[38;5;241m.\u001b[39mformat(x))\n\u001b[1;32m      2\u001b[0m df[\u001b[38;5;124m'\u001b[39m\u001b[38;5;124mCPC\u001b[39m\u001b[38;5;124m'\u001b[39m] \u001b[38;5;241m=\u001b[39m \u001b[38;5;124m'\u001b[39m\u001b[38;5;124m£\u001b[39m\u001b[38;5;124m'\u001b[39m \u001b[38;5;241m+\u001b[39m df[\u001b[38;5;124m'\u001b[39m\u001b[38;5;124mCPC\u001b[39m\u001b[38;5;124m'\u001b[39m]\u001b[38;5;241m.\u001b[39mapply(\u001b[38;5;28;01mlambda\u001b[39;00m x: \u001b[38;5;124m'\u001b[39m\u001b[38;5;132;01m{:.2f}\u001b[39;00m\u001b[38;5;124m'\u001b[39m\u001b[38;5;241m.\u001b[39mformat(x))\n\u001b[1;32m      3\u001b[0m df[\u001b[38;5;124m'\u001b[39m\u001b[38;5;124mCPM\u001b[39m\u001b[38;5;124m'\u001b[39m] \u001b[38;5;241m=\u001b[39m \u001b[38;5;124m'\u001b[39m\u001b[38;5;124m£\u001b[39m\u001b[38;5;124m'\u001b[39m \u001b[38;5;241m+\u001b[39m df[\u001b[38;5;124m'\u001b[39m\u001b[38;5;124mCPM\u001b[39m\u001b[38;5;124m'\u001b[39m]\u001b[38;5;241m.\u001b[39mapply(\u001b[38;5;28;01mlambda\u001b[39;00m x: \u001b[38;5;124m'\u001b[39m\u001b[38;5;132;01m{:.2f}\u001b[39;00m\u001b[38;5;124m'\u001b[39m\u001b[38;5;241m.\u001b[39mformat(x))\n",
      "\u001b[0;31mValueError\u001b[0m: Unknown format code 'f' for object of type 'str'"
     ]
    }
   ],
   "source": [
    "df['CPA'] = '£' + df['CPA'].apply(lambda x: '{:.2f}'.format(x))\n",
    "df['CPC'] = '£' + df['CPC'].apply(lambda x: '{:.2f}'.format(x))\n",
    "df['CPM'] = '£' + df['CPM'].apply(lambda x: '{:.2f}'.format(x))\n",
    "\n",
    "df.head()"
   ]
  },
  {
   "cell_type": "code",
   "execution_count": 127,
   "id": "14ba93a9",
   "metadata": {},
   "outputs": [],
   "source": [
    "df_snapchat = df[df['Platform'] == 'Snapchat']\n",
    "df_instagram = df[df['Platform'] == 'Instagram']\n",
    "df_tiktok = df[df['Platform'] == 'Tiktok']\n",
    "df_youtube = df[df['Platform'] == 'Youtube']"
   ]
  },
  {
   "cell_type": "code",
   "execution_count": null,
   "id": "a431aad9",
   "metadata": {},
   "outputs": [],
   "source": []
  },
  {
   "cell_type": "code",
   "execution_count": 114,
   "id": "1a05f669",
   "metadata": {},
   "outputs": [
    {
     "data": {
      "text/plain": [
       "Index(['Day', 'Platform', 'Campaign Name', 'Campaign Type', 'Impressions',\n",
       "       'Clicks', 'Conversions', 'Revenue', 'Spend', 'Region', 'AdCreative',\n",
       "       'CTR', 'CPA', 'CPC', 'CPM'],\n",
       "      dtype='object')"
      ]
     },
     "execution_count": 114,
     "metadata": {},
     "output_type": "execute_result"
    }
   ],
   "source": [
    "df.columns"
   ]
  },
  {
   "cell_type": "code",
   "execution_count": 115,
   "id": "1ad7f5c2",
   "metadata": {},
   "outputs": [
    {
     "name": "stdout",
     "output_type": "stream",
     "text": [
      "Columns have been successfully re-ordered\n"
     ]
    }
   ],
   "source": [
    "df= df[['Day', 'Platform','Campaign Name', 'Campaign Type', 'Impressions', 'Clicks',\n",
    "       'Conversions', 'Revenue', 'Spend', 'Region', 'AdCreative', 'CTR', 'CPA',\n",
    "       'CPC', 'CPM']]\n",
    "print(\"Columns have been successfully re-ordered\")"
   ]
  },
  {
   "cell_type": "code",
   "execution_count": 116,
   "id": "b75aaeb0",
   "metadata": {},
   "outputs": [
    {
     "data": {
      "text/plain": [
       "<bound method NDFrame.head of             Day   Platform          Campaign Name Campaign Type  Impressions  \\\n",
       "0      01/01/23   SnapChat   SnapChat-Retargeting   Retargeting       102704   \n",
       "1      01/01/23    YouTube    YouTube-Retargeting   Retargeting        83904   \n",
       "2      01/01/23     TikTok     TikTok-Prospecting   Prospecting        77023   \n",
       "3      01/01/23    YouTube    YouTube-Retargeting   Retargeting        34385   \n",
       "4      01/01/23    YouTube    YouTube-Prospecting   Prospecting        78641   \n",
       "...         ...        ...                    ...           ...          ...   \n",
       "19995  29/11/23   SnapChat   SnapChat-Prospecting   Prospecting        91465   \n",
       "19996  29/11/23   Facebook   Facebook-Prospecting   Prospecting        15414   \n",
       "19997  29/11/23   SnapChat   SnapChat-Prospecting   Prospecting        68686   \n",
       "19998  29/11/23  Instagram  Instagram-Retargeting   Retargeting        91967   \n",
       "19999  30/11/23   Facebook   Facebook-Prospecting   Prospecting        51634   \n",
       "\n",
       "       Clicks  Conversions     Revenue    Spend            Region AdCreative  \\\n",
       "0        1593          157   $3,910.74  2101.08     East Midlands  CreativeC   \n",
       "1        1798          110  $11,700.93  6955.66     East Midlands  CreativeC   \n",
       "2        2644          261   $9,756.09  1471.76        North East  CreativeB   \n",
       "3        1570           42   $4,341.76   101.55            London  CreativeC   \n",
       "4        2731           11   $8,860.43  1337.07     West Midlands  CreativeA   \n",
       "...       ...          ...         ...      ...               ...        ...   \n",
       "19995    1201           46     $803.95  1461.74  Northern Ireland  CreativeA   \n",
       "19996     134          173   $7,311.93  4559.23            London  CreativeC   \n",
       "19997    1964          134   $3,601.11  3650.29          Scotland  CreativeB   \n",
       "19998     365           29   $7,372.90   323.18     West Midlands  CreativeB   \n",
       "19999     294          208   $8,721.89  6925.09            London  CreativeC   \n",
       "\n",
       "            CTR         CPA        CPC         CPM  \n",
       "0      1.551059   13.382675   1.318945   20.457626  \n",
       "1      2.142925   63.233273   3.868554   82.900219  \n",
       "2      3.432741    5.638927   0.556641   19.108059  \n",
       "3      4.565944    2.417857   0.064682    2.953323  \n",
       "4      3.472743  121.551818   0.489590   17.002200  \n",
       "...         ...         ...        ...         ...  \n",
       "19995  1.313071   31.776957   1.217102   15.981414  \n",
       "19996  0.869340   26.353931  34.024104  295.785001  \n",
       "19997  2.859389   27.240970   1.858600   53.144600  \n",
       "19998  0.396881   11.144138   0.885425    3.514087  \n",
       "19999  0.569392   33.293702  23.554728  134.118798  \n",
       "\n",
       "[20000 rows x 15 columns]>"
      ]
     },
     "execution_count": 116,
     "metadata": {},
     "output_type": "execute_result"
    }
   ],
   "source": [
    "df.head"
   ]
  },
  {
   "cell_type": "code",
   "execution_count": 117,
   "id": "002d358d",
   "metadata": {},
   "outputs": [],
   "source": [
    "df.to_csv('lesson20task.csv')"
   ]
  },
  {
   "cell_type": "code",
   "execution_count": 118,
   "id": "c7759e04",
   "metadata": {},
   "outputs": [
    {
     "name": "stdout",
     "output_type": "stream",
     "text": [
      "CSV file marketing campaign has been saved successfully\n"
     ]
    }
   ],
   "source": [
    "print(\"CSV file marketing campaign has been saved successfully\")"
   ]
  },
  {
   "cell_type": "code",
   "execution_count": 119,
   "id": "438271f8",
   "metadata": {},
   "outputs": [
    {
     "name": "stdout",
     "output_type": "stream",
     "text": [
      "        Impressions       Clicks   Conversions         Spend           CTR  \\\n",
      "count   20000.00000  20000.00000  20000.000000  20000.000000  20000.000000   \n",
      "mean    50381.32740   1299.40235     98.572150   3186.437726      6.205406   \n",
      "std     29825.02892    998.95896     77.277841   2140.147373     15.779745   \n",
      "min       802.00000      4.00000      6.000000     70.170000      0.004430   \n",
      "25%     25009.00000    361.00000     35.000000   1473.960000      0.868895   \n",
      "50%     49386.50000   1164.00000     67.000000   2803.450000      2.408600   \n",
      "75%     73852.25000   1994.00000    161.000000   4362.440000      5.164275   \n",
      "max    119942.00000   3998.00000    299.000000   8996.270000    368.087215   \n",
      "\n",
      "                CPA           CPC           CPM  \n",
      "count  20000.000000  20000.000000  20000.000000  \n",
      "mean      77.592342     10.882004    154.245982  \n",
      "std      121.223967     36.780602    371.152942  \n",
      "min        0.317491      0.031594      0.733357  \n",
      "25%       14.941866      1.152305     29.068767  \n",
      "50%       35.278288      2.582182     60.189187  \n",
      "75%       87.285100      7.250964    128.081584  \n",
      "max     1498.455000   1167.018333   8889.024691  \n"
     ]
    }
   ],
   "source": [
    "statistics = df.describe()\n",
    "print(statistics)"
   ]
  },
  {
   "cell_type": "code",
   "execution_count": null,
   "id": "3071d3db",
   "metadata": {},
   "outputs": [],
   "source": []
  }
 ],
 "metadata": {
  "kernelspec": {
   "display_name": "Python 3 (ipykernel)",
   "language": "python",
   "name": "python3"
  },
  "language_info": {
   "codemirror_mode": {
    "name": "ipython",
    "version": 3
   },
   "file_extension": ".py",
   "mimetype": "text/x-python",
   "name": "python",
   "nbconvert_exporter": "python",
   "pygments_lexer": "ipython3",
   "version": "3.11.5"
  }
 },
 "nbformat": 4,
 "nbformat_minor": 5
}
