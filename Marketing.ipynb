{
 "cells": [
  {
   "cell_type": "markdown",
   "id": "5bfc436e",
   "metadata": {},
   "source": [
    "# Import packages"
   ]
  },
  {
   "cell_type": "code",
   "execution_count": 18,
   "id": "acd98e21",
   "metadata": {},
   "outputs": [
    {
     "data": {
      "text/plain": [
       "'/Users/jamilah/Python/Marketing'"
      ]
     },
     "execution_count": 18,
     "metadata": {},
     "output_type": "execute_result"
    }
   ],
   "source": [
    "pwd"
   ]
  },
  {
   "cell_type": "markdown",
   "id": "8252a564",
   "metadata": {},
   "source": [
    "# Read in file(s)"
   ]
  },
  {
   "cell_type": "code",
   "execution_count": 19,
   "id": "4b37b0b5",
   "metadata": {},
   "outputs": [
    {
     "name": "stdout",
     "output_type": "stream",
     "text": [
      "CSV file has been successfully read in.\n"
     ]
    }
   ],
   "source": [
    "import pandas as pd\n",
    "file_path= \"/Users/jamilah/Python/Marketing/marketing_campaign_data_py.csv\"\n",
    "\n",
    "df = pd.read_csv(file_path)\n",
    "print (\"CSV file has been successfully read in.\")"
   ]
  },
  {
   "cell_type": "markdown",
   "id": "52cd04df",
   "metadata": {},
   "source": [
    "# Verify df(s)"
   ]
  },
  {
   "cell_type": "code",
   "execution_count": 20,
   "id": "33ee6bfe",
   "metadata": {},
   "outputs": [
    {
     "name": "stdout",
     "output_type": "stream",
     "text": [
      "           Date   Campaign Campaign Type  Impressions  Clicks  Conversions  \\\n",
      "0      01/01/23   SnapChat   Retargeting       102704    1593          157   \n",
      "1      01/01/23    YouTube   Retargeting        83904    1798          110   \n",
      "2      01/01/23     TikTok   Prospecting        77023    2644          261   \n",
      "3      01/01/23    YouTube   Retargeting        34385    1570           42   \n",
      "4      01/01/23    YouTube   Prospecting        78641    2731           11   \n",
      "...         ...        ...           ...          ...     ...          ...   \n",
      "19995  29/11/23   SnapChat   Prospecting        91465    1201           46   \n",
      "19996  29/11/23   Facebook   Prospecting        15414     134          173   \n",
      "19997  29/11/23   SnapChat   Prospecting        68686    1964          134   \n",
      "19998  29/11/23  Instagram   Retargeting        91967     365           29   \n",
      "19999  30/11/23   Facebook   Prospecting        51634     294          208   \n",
      "\n",
      "          Revenue       Cost            Region AdCreative  \n",
      "0       $3,910.74  $2,101.08     East Midlands  CreativeC  \n",
      "1      $11,700.93  $6,955.66     East Midlands  CreativeC  \n",
      "2       $9,756.09  $1,471.76        North East  CreativeB  \n",
      "3       $4,341.76    $101.55            London  CreativeC  \n",
      "4       $8,860.43  $1,337.07     West Midlands  CreativeA  \n",
      "...           ...        ...               ...        ...  \n",
      "19995     $803.95  $1,461.74  Northern Ireland  CreativeA  \n",
      "19996   $7,311.93  $4,559.23            London  CreativeC  \n",
      "19997   $3,601.11  $3,650.29          Scotland  CreativeB  \n",
      "19998   $7,372.90    $323.18     West Midlands  CreativeB  \n",
      "19999   $8,721.89  $6,925.09            London  CreativeC  \n",
      "\n",
      "[20000 rows x 10 columns]\n"
     ]
    }
   ],
   "source": [
    "print(df)"
   ]
  },
  {
   "cell_type": "markdown",
   "id": "723dea01",
   "metadata": {},
   "source": [
    "# Reorder Columns"
   ]
  },
  {
   "cell_type": "code",
   "execution_count": 21,
   "id": "fb2d539d",
   "metadata": {},
   "outputs": [
    {
     "name": "stdout",
     "output_type": "stream",
     "text": [
      "Index(['Date', 'Campaign', 'Campaign Type', 'Impressions', 'Clicks',\n",
      "       'Conversions', 'Revenue', 'Cost', 'Region', 'AdCreative'],\n",
      "      dtype='object')\n"
     ]
    }
   ],
   "source": [
    "print(df.columns)"
   ]
  },
  {
   "cell_type": "code",
   "execution_count": 25,
   "id": "a71d6290",
   "metadata": {},
   "outputs": [
    {
     "name": "stdout",
     "output_type": "stream",
     "text": [
      "Column names campaign, date and cost have been renamed\n"
     ]
    }
   ],
   "source": [
    " df.rename(columns={'Date': 'Day', 'Cost': 'Spend','Campaign': 'Platform'}, inplace=True)\n",
    "print (\"Column names campaign, date and cost have been renamed\")"
   ]
  },
  {
   "cell_type": "markdown",
   "id": "79f01b27",
   "metadata": {},
   "source": [
    "# Data Cleaning and Transformation"
   ]
  },
  {
   "cell_type": "code",
   "execution_count": 43,
   "id": "ae26ddc1",
   "metadata": {},
   "outputs": [
    {
     "name": "stdout",
     "output_type": "stream",
     "text": [
      "CTR column has been created.\n",
      "CPC column has been created\n",
      "CPM column has been created\n",
      "Campaign Name column has been created\n"
     ]
    }
   ],
   "source": [
    "df['CPA'] = df['Spend'] / df['Conversions']\n",
    "\n",
    "df['CTR'] = df['Clicks'] / df['Impressions']\n",
    "print (\"CTR column has been created.\")\n",
    "\n",
    "df['CPC']= df['Spend']/ df['Clicks']\n",
    "print(\"CPC column has been created\")\n",
    "\n",
    "df['CPM']= (df['Spend']/ df['Impressions']) *1000\n",
    "print(\"CPM column has been created\")\n",
    "\n",
    "df['Campaign Name']= df['Platform'] + \"-\" + df['Campaign Type']\n",
    "print (\"Campaign Name column has been created\")\n",
    "\n"
   ]
  },
  {
   "cell_type": "markdown",
   "id": "cf38e583",
   "metadata": {},
   "source": [
    "# Making sure the numbers are in the right format"
   ]
  },
  {
   "cell_type": "code",
   "execution_count": 44,
   "id": "89cdb4be",
   "metadata": {},
   "outputs": [
    {
     "data": {
      "text/plain": [
       "Day               object\n",
       "Platform          object\n",
       "Campaign Type     object\n",
       "Impressions        int64\n",
       "Clicks             int64\n",
       "Conversions        int64\n",
       "Revenue           object\n",
       "Spend            float64\n",
       "Region            object\n",
       "AdCreative        object\n",
       "CPA              float64\n",
       "CTR              float64\n",
       "CPC              float64\n",
       "CPM              float64\n",
       "Campaign Name     object\n",
       "dtype: object"
      ]
     },
     "execution_count": 44,
     "metadata": {},
     "output_type": "execute_result"
    }
   ],
   "source": [
    "df.dtypes"
   ]
  },
  {
   "cell_type": "markdown",
   "id": "4d7389e4",
   "metadata": {},
   "source": [
    "# Change CPA, CPC and CPM into currency"
   ]
  },
  {
   "cell_type": "code",
   "execution_count": 55,
   "id": "b96539f4",
   "metadata": {},
   "outputs": [
    {
     "ename": "ValueError",
     "evalue": "Unknown format code 'f' for object of type 'str'",
     "output_type": "error",
     "traceback": [
      "\u001b[0;31m---------------------------------------------------------------------------\u001b[0m",
      "\u001b[0;31mValueError\u001b[0m                                Traceback (most recent call last)",
      "Cell \u001b[0;32mIn[55], line 1\u001b[0m\n\u001b[0;32m----> 1\u001b[0m df[\u001b[38;5;124m'\u001b[39m\u001b[38;5;124mCPA\u001b[39m\u001b[38;5;124m'\u001b[39m] \u001b[38;5;241m=\u001b[39m \u001b[38;5;124m'\u001b[39m\u001b[38;5;124m£\u001b[39m\u001b[38;5;124m'\u001b[39m \u001b[38;5;241m+\u001b[39m df[\u001b[38;5;124m'\u001b[39m\u001b[38;5;124mCPA\u001b[39m\u001b[38;5;124m'\u001b[39m]\u001b[38;5;241m.\u001b[39mapply(\u001b[38;5;28;01mlambda\u001b[39;00m x: \u001b[38;5;124m'\u001b[39m\u001b[38;5;132;01m{:.2f}\u001b[39;00m\u001b[38;5;124m'\u001b[39m\u001b[38;5;241m.\u001b[39mformat(x))\n\u001b[1;32m      2\u001b[0m df[\u001b[38;5;124m'\u001b[39m\u001b[38;5;124mCPC\u001b[39m\u001b[38;5;124m'\u001b[39m] \u001b[38;5;241m=\u001b[39m \u001b[38;5;124m'\u001b[39m\u001b[38;5;124m£\u001b[39m\u001b[38;5;124m'\u001b[39m \u001b[38;5;241m+\u001b[39m df[\u001b[38;5;124m'\u001b[39m\u001b[38;5;124mCPC\u001b[39m\u001b[38;5;124m'\u001b[39m]\u001b[38;5;241m.\u001b[39mapply(\u001b[38;5;28;01mlambda\u001b[39;00m x: \u001b[38;5;124m'\u001b[39m\u001b[38;5;132;01m{:.2f}\u001b[39;00m\u001b[38;5;124m'\u001b[39m\u001b[38;5;241m.\u001b[39mformat(x))\n\u001b[1;32m      3\u001b[0m df[\u001b[38;5;124m'\u001b[39m\u001b[38;5;124mCPM\u001b[39m\u001b[38;5;124m'\u001b[39m] \u001b[38;5;241m=\u001b[39m \u001b[38;5;124m'\u001b[39m\u001b[38;5;124m£\u001b[39m\u001b[38;5;124m'\u001b[39m \u001b[38;5;241m+\u001b[39m df[\u001b[38;5;124m'\u001b[39m\u001b[38;5;124mCPM\u001b[39m\u001b[38;5;124m'\u001b[39m]\u001b[38;5;241m.\u001b[39mapply(\u001b[38;5;28;01mlambda\u001b[39;00m x: \u001b[38;5;124m'\u001b[39m\u001b[38;5;132;01m{:.2f}\u001b[39;00m\u001b[38;5;124m'\u001b[39m\u001b[38;5;241m.\u001b[39mformat(x))\n",
      "File \u001b[0;32m~/anaconda3/lib/python3.11/site-packages/pandas/core/series.py:4630\u001b[0m, in \u001b[0;36mSeries.apply\u001b[0;34m(self, func, convert_dtype, args, **kwargs)\u001b[0m\n\u001b[1;32m   4520\u001b[0m \u001b[38;5;28;01mdef\u001b[39;00m \u001b[38;5;21mapply\u001b[39m(\n\u001b[1;32m   4521\u001b[0m     \u001b[38;5;28mself\u001b[39m,\n\u001b[1;32m   4522\u001b[0m     func: AggFuncType,\n\u001b[0;32m   (...)\u001b[0m\n\u001b[1;32m   4525\u001b[0m     \u001b[38;5;241m*\u001b[39m\u001b[38;5;241m*\u001b[39mkwargs,\n\u001b[1;32m   4526\u001b[0m ) \u001b[38;5;241m-\u001b[39m\u001b[38;5;241m>\u001b[39m DataFrame \u001b[38;5;241m|\u001b[39m Series:\n\u001b[1;32m   4527\u001b[0m \u001b[38;5;250m    \u001b[39m\u001b[38;5;124;03m\"\"\"\u001b[39;00m\n\u001b[1;32m   4528\u001b[0m \u001b[38;5;124;03m    Invoke function on values of Series.\u001b[39;00m\n\u001b[1;32m   4529\u001b[0m \n\u001b[0;32m   (...)\u001b[0m\n\u001b[1;32m   4628\u001b[0m \u001b[38;5;124;03m    dtype: float64\u001b[39;00m\n\u001b[1;32m   4629\u001b[0m \u001b[38;5;124;03m    \"\"\"\u001b[39;00m\n\u001b[0;32m-> 4630\u001b[0m     \u001b[38;5;28;01mreturn\u001b[39;00m SeriesApply(\u001b[38;5;28mself\u001b[39m, func, convert_dtype, args, kwargs)\u001b[38;5;241m.\u001b[39mapply()\n",
      "File \u001b[0;32m~/anaconda3/lib/python3.11/site-packages/pandas/core/apply.py:1025\u001b[0m, in \u001b[0;36mSeriesApply.apply\u001b[0;34m(self)\u001b[0m\n\u001b[1;32m   1022\u001b[0m     \u001b[38;5;28;01mreturn\u001b[39;00m \u001b[38;5;28mself\u001b[39m\u001b[38;5;241m.\u001b[39mapply_str()\n\u001b[1;32m   1024\u001b[0m \u001b[38;5;66;03m# self.f is Callable\u001b[39;00m\n\u001b[0;32m-> 1025\u001b[0m \u001b[38;5;28;01mreturn\u001b[39;00m \u001b[38;5;28mself\u001b[39m\u001b[38;5;241m.\u001b[39mapply_standard()\n",
      "File \u001b[0;32m~/anaconda3/lib/python3.11/site-packages/pandas/core/apply.py:1076\u001b[0m, in \u001b[0;36mSeriesApply.apply_standard\u001b[0;34m(self)\u001b[0m\n\u001b[1;32m   1074\u001b[0m     \u001b[38;5;28;01melse\u001b[39;00m:\n\u001b[1;32m   1075\u001b[0m         values \u001b[38;5;241m=\u001b[39m obj\u001b[38;5;241m.\u001b[39mastype(\u001b[38;5;28mobject\u001b[39m)\u001b[38;5;241m.\u001b[39m_values\n\u001b[0;32m-> 1076\u001b[0m         mapped \u001b[38;5;241m=\u001b[39m lib\u001b[38;5;241m.\u001b[39mmap_infer(\n\u001b[1;32m   1077\u001b[0m             values,\n\u001b[1;32m   1078\u001b[0m             f,\n\u001b[1;32m   1079\u001b[0m             convert\u001b[38;5;241m=\u001b[39m\u001b[38;5;28mself\u001b[39m\u001b[38;5;241m.\u001b[39mconvert_dtype,\n\u001b[1;32m   1080\u001b[0m         )\n\u001b[1;32m   1082\u001b[0m \u001b[38;5;28;01mif\u001b[39;00m \u001b[38;5;28mlen\u001b[39m(mapped) \u001b[38;5;129;01mand\u001b[39;00m \u001b[38;5;28misinstance\u001b[39m(mapped[\u001b[38;5;241m0\u001b[39m], ABCSeries):\n\u001b[1;32m   1083\u001b[0m     \u001b[38;5;66;03m# GH#43986 Need to do list(mapped) in order to get treated as nested\u001b[39;00m\n\u001b[1;32m   1084\u001b[0m     \u001b[38;5;66;03m#  See also GH#25959 regarding EA support\u001b[39;00m\n\u001b[1;32m   1085\u001b[0m     \u001b[38;5;28;01mreturn\u001b[39;00m obj\u001b[38;5;241m.\u001b[39m_constructor_expanddim(\u001b[38;5;28mlist\u001b[39m(mapped), index\u001b[38;5;241m=\u001b[39mobj\u001b[38;5;241m.\u001b[39mindex)\n",
      "File \u001b[0;32m~/anaconda3/lib/python3.11/site-packages/pandas/_libs/lib.pyx:2834\u001b[0m, in \u001b[0;36mpandas._libs.lib.map_infer\u001b[0;34m()\u001b[0m\n",
      "Cell \u001b[0;32mIn[55], line 1\u001b[0m, in \u001b[0;36m<lambda>\u001b[0;34m(x)\u001b[0m\n\u001b[0;32m----> 1\u001b[0m df[\u001b[38;5;124m'\u001b[39m\u001b[38;5;124mCPA\u001b[39m\u001b[38;5;124m'\u001b[39m] \u001b[38;5;241m=\u001b[39m \u001b[38;5;124m'\u001b[39m\u001b[38;5;124m£\u001b[39m\u001b[38;5;124m'\u001b[39m \u001b[38;5;241m+\u001b[39m df[\u001b[38;5;124m'\u001b[39m\u001b[38;5;124mCPA\u001b[39m\u001b[38;5;124m'\u001b[39m]\u001b[38;5;241m.\u001b[39mapply(\u001b[38;5;28;01mlambda\u001b[39;00m x: \u001b[38;5;124m'\u001b[39m\u001b[38;5;132;01m{:.2f}\u001b[39;00m\u001b[38;5;124m'\u001b[39m\u001b[38;5;241m.\u001b[39mformat(x))\n\u001b[1;32m      2\u001b[0m df[\u001b[38;5;124m'\u001b[39m\u001b[38;5;124mCPC\u001b[39m\u001b[38;5;124m'\u001b[39m] \u001b[38;5;241m=\u001b[39m \u001b[38;5;124m'\u001b[39m\u001b[38;5;124m£\u001b[39m\u001b[38;5;124m'\u001b[39m \u001b[38;5;241m+\u001b[39m df[\u001b[38;5;124m'\u001b[39m\u001b[38;5;124mCPC\u001b[39m\u001b[38;5;124m'\u001b[39m]\u001b[38;5;241m.\u001b[39mapply(\u001b[38;5;28;01mlambda\u001b[39;00m x: \u001b[38;5;124m'\u001b[39m\u001b[38;5;132;01m{:.2f}\u001b[39;00m\u001b[38;5;124m'\u001b[39m\u001b[38;5;241m.\u001b[39mformat(x))\n\u001b[1;32m      3\u001b[0m df[\u001b[38;5;124m'\u001b[39m\u001b[38;5;124mCPM\u001b[39m\u001b[38;5;124m'\u001b[39m] \u001b[38;5;241m=\u001b[39m \u001b[38;5;124m'\u001b[39m\u001b[38;5;124m£\u001b[39m\u001b[38;5;124m'\u001b[39m \u001b[38;5;241m+\u001b[39m df[\u001b[38;5;124m'\u001b[39m\u001b[38;5;124mCPM\u001b[39m\u001b[38;5;124m'\u001b[39m]\u001b[38;5;241m.\u001b[39mapply(\u001b[38;5;28;01mlambda\u001b[39;00m x: \u001b[38;5;124m'\u001b[39m\u001b[38;5;132;01m{:.2f}\u001b[39;00m\u001b[38;5;124m'\u001b[39m\u001b[38;5;241m.\u001b[39mformat(x))\n",
      "\u001b[0;31mValueError\u001b[0m: Unknown format code 'f' for object of type 'str'"
     ]
    }
   ],
   "source": [
    "df['CPA'] = '£' + df['CPA'].apply(lambda x: '{:.2f}'.format(x))\n",
    "df['CPC'] = '£' + df['CPC'].apply(lambda x: '{:.2f}'.format(x))\n",
    "df['CPM'] = '£' + df['CPM'].apply(lambda x: '{:.2f}'.format(x))"
   ]
  },
  {
   "cell_type": "markdown",
   "id": "ab8b7316",
   "metadata": {},
   "source": [
    "# Verify df(s)"
   ]
  },
  {
   "cell_type": "code",
   "execution_count": 48,
   "id": "7322d546",
   "metadata": {},
   "outputs": [
    {
     "name": "stdout",
     "output_type": "stream",
     "text": [
      "            Day   Platform Campaign Type  Impressions  Clicks  Conversions  \\\n",
      "0      01/01/23   SnapChat   Retargeting       102704    1593          157   \n",
      "1      01/01/23    YouTube   Retargeting        83904    1798          110   \n",
      "2      01/01/23     TikTok   Prospecting        77023    2644          261   \n",
      "3      01/01/23    YouTube   Retargeting        34385    1570           42   \n",
      "4      01/01/23    YouTube   Prospecting        78641    2731           11   \n",
      "...         ...        ...           ...          ...     ...          ...   \n",
      "19995  29/11/23   SnapChat   Prospecting        91465    1201           46   \n",
      "19996  29/11/23   Facebook   Prospecting        15414     134          173   \n",
      "19997  29/11/23   SnapChat   Prospecting        68686    1964          134   \n",
      "19998  29/11/23  Instagram   Retargeting        91967     365           29   \n",
      "19999  30/11/23   Facebook   Prospecting        51634     294          208   \n",
      "\n",
      "          Revenue    Spend            Region AdCreative      CPA       CTR  \\\n",
      "0       $3,910.74  2101.08     East Midlands  CreativeC   £13.38  0.015511   \n",
      "1      $11,700.93  6955.66     East Midlands  CreativeC   £63.23  0.021429   \n",
      "2       $9,756.09  1471.76        North East  CreativeB    £5.64  0.034327   \n",
      "3       $4,341.76   101.55            London  CreativeC    £2.42  0.045659   \n",
      "4       $8,860.43  1337.07     West Midlands  CreativeA  £121.55  0.034727   \n",
      "...           ...      ...               ...        ...      ...       ...   \n",
      "19995     $803.95  1461.74  Northern Ireland  CreativeA   £31.78  0.013131   \n",
      "19996   $7,311.93  4559.23            London  CreativeC   £26.35  0.008693   \n",
      "19997   $3,601.11  3650.29          Scotland  CreativeB   £27.24  0.028594   \n",
      "19998   $7,372.90   323.18     West Midlands  CreativeB   £11.14  0.003969   \n",
      "19999   $8,721.89  6925.09            London  CreativeC   £33.29  0.005694   \n",
      "\n",
      "          CPC      CPM          Campaign Name  \n",
      "0       £1.32   £20.46   SnapChat-Retargeting  \n",
      "1       £3.87   £82.90    YouTube-Retargeting  \n",
      "2       £0.56   £19.11     TikTok-Prospecting  \n",
      "3       £0.06    £2.95    YouTube-Retargeting  \n",
      "4       £0.49   £17.00    YouTube-Prospecting  \n",
      "...       ...      ...                    ...  \n",
      "19995   £1.22   £15.98   SnapChat-Prospecting  \n",
      "19996  £34.02  £295.79   Facebook-Prospecting  \n",
      "19997   £1.86   £53.14   SnapChat-Prospecting  \n",
      "19998   £0.89    £3.51  Instagram-Retargeting  \n",
      "19999  £23.55  £134.12   Facebook-Prospecting  \n",
      "\n",
      "[20000 rows x 15 columns]\n"
     ]
    }
   ],
   "source": [
    "print(df)"
   ]
  },
  {
   "cell_type": "code",
   "execution_count": null,
   "id": "e67a39bb",
   "metadata": {},
   "outputs": [],
   "source": []
  }
 ],
 "metadata": {
  "kernelspec": {
   "display_name": "Python 3 (ipykernel)",
   "language": "python",
   "name": "python3"
  },
  "language_info": {
   "codemirror_mode": {
    "name": "ipython",
    "version": 3
   },
   "file_extension": ".py",
   "mimetype": "text/x-python",
   "name": "python",
   "nbconvert_exporter": "python",
   "pygments_lexer": "ipython3",
   "version": "3.11.5"
  }
 },
 "nbformat": 4,
 "nbformat_minor": 5
}
