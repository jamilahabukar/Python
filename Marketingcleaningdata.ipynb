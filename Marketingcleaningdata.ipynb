{
 "cells": [
  {
   "cell_type": "markdown",
   "id": "081a38eb",
   "metadata": {},
   "source": [
    "# Import packages"
   ]
  },
  {
   "cell_type": "code",
   "execution_count": 1,
   "id": "5de23504",
   "metadata": {},
   "outputs": [
    {
     "data": {
      "text/plain": [
       "'/Users/jamilah/Python/Marketing'"
      ]
     },
     "execution_count": 1,
     "metadata": {},
     "output_type": "execute_result"
    }
   ],
   "source": [
    "pwd"
   ]
  },
  {
   "cell_type": "markdown",
   "id": "2e0ebae1",
   "metadata": {},
   "source": [
    "# Read in file(s)"
   ]
  },
  {
   "cell_type": "code",
   "execution_count": 2,
   "id": "12db15a2",
   "metadata": {},
   "outputs": [
    {
     "name": "stdout",
     "output_type": "stream",
     "text": [
      "CSV file has been successfully read in.\n"
     ]
    }
   ],
   "source": [
    "import pandas as pd\n",
    "file_path= \"/Users/jamilah/Python/Marketing/marketing_campaign_data_py.csv\"\n",
    "\n",
    "df = pd.read_csv(file_path)\n",
    "print (\"CSV file has been successfully read in.\")"
   ]
  },
  {
   "cell_type": "markdown",
   "id": "fd0c560b",
   "metadata": {},
   "source": [
    "# Verify df(s)"
   ]
  },
  {
   "cell_type": "code",
   "execution_count": 3,
   "id": "2fd517a0",
   "metadata": {},
   "outputs": [
    {
     "name": "stdout",
     "output_type": "stream",
     "text": [
      "           Date   Campaign Campaign Type  Impressions  Clicks  Conversions  \\\n",
      "0      01/01/23   SnapChat   Retargeting       102704    1593          157   \n",
      "1      01/01/23    YouTube   Retargeting        83904    1798          110   \n",
      "2      01/01/23     TikTok   Prospecting        77023    2644          261   \n",
      "3      01/01/23    YouTube   Retargeting        34385    1570           42   \n",
      "4      01/01/23    YouTube   Prospecting        78641    2731           11   \n",
      "...         ...        ...           ...          ...     ...          ...   \n",
      "19995  29/11/23   SnapChat   Prospecting        91465    1201           46   \n",
      "19996  29/11/23   Facebook   Prospecting        15414     134          173   \n",
      "19997  29/11/23   SnapChat   Prospecting        68686    1964          134   \n",
      "19998  29/11/23  Instagram   Retargeting        91967     365           29   \n",
      "19999  30/11/23   Facebook   Prospecting        51634     294          208   \n",
      "\n",
      "          Revenue       Cost            Region AdCreative  \n",
      "0       $3,910.74  $2,101.08     East Midlands  CreativeC  \n",
      "1      $11,700.93  $6,955.66     East Midlands  CreativeC  \n",
      "2       $9,756.09  $1,471.76        North East  CreativeB  \n",
      "3       $4,341.76    $101.55            London  CreativeC  \n",
      "4       $8,860.43  $1,337.07     West Midlands  CreativeA  \n",
      "...           ...        ...               ...        ...  \n",
      "19995     $803.95  $1,461.74  Northern Ireland  CreativeA  \n",
      "19996   $7,311.93  $4,559.23            London  CreativeC  \n",
      "19997   $3,601.11  $3,650.29          Scotland  CreativeB  \n",
      "19998   $7,372.90    $323.18     West Midlands  CreativeB  \n",
      "19999   $8,721.89  $6,925.09            London  CreativeC  \n",
      "\n",
      "[20000 rows x 10 columns]\n"
     ]
    }
   ],
   "source": [
    "print(df)"
   ]
  },
  {
   "cell_type": "markdown",
   "id": "bce2bf08",
   "metadata": {},
   "source": [
    "# Reorder Columns"
   ]
  },
  {
   "cell_type": "code",
   "execution_count": 4,
   "id": "2de51de5",
   "metadata": {},
   "outputs": [
    {
     "name": "stdout",
     "output_type": "stream",
     "text": [
      "Index(['Date', 'Campaign', 'Campaign Type', 'Impressions', 'Clicks',\n",
      "       'Conversions', 'Revenue', 'Cost', 'Region', 'AdCreative'],\n",
      "      dtype='object')\n"
     ]
    }
   ],
   "source": [
    "print(df.columns)"
   ]
  },
  {
   "cell_type": "code",
   "execution_count": 5,
   "id": "29b14e8f",
   "metadata": {},
   "outputs": [
    {
     "name": "stdout",
     "output_type": "stream",
     "text": [
      "Column names campaign, date and cost have been renamed\n"
     ]
    }
   ],
   "source": [
    " df.rename(columns={'Date': 'Day', 'Cost': 'Spend','Campaign': 'Platform'}, inplace=True)\n",
    "print (\"Column names campaign, date and cost have been renamed\")"
   ]
  },
  {
   "cell_type": "markdown",
   "id": "187abfe5",
   "metadata": {},
   "source": [
    "# Data Cleaning and Transformation"
   ]
  },
  {
   "cell_type": "code",
   "execution_count": 7,
   "id": "d5b2696a",
   "metadata": {},
   "outputs": [
    {
     "name": "stdout",
     "output_type": "stream",
     "text": [
      "CTR column has been created.\n",
      "CPC column has been created\n",
      "CPM column has been created\n",
      "Campaign Name column has been created\n"
     ]
    }
   ],
   "source": [
    "df['Spend'] = df['Spend'].str.replace('[\\$,]', '', regex=True).astype(float)\n",
    "df['CPA'] = df['Spend'] / df['Conversions']\n",
    "\n",
    "df['CTR'] = df['Clicks'] / df['Impressions']\n",
    "print (\"CTR column has been created.\")\n",
    "\n",
    "df['CPC']= df['Spend']/ df['Clicks']\n",
    "print(\"CPC column has been created\")\n",
    "\n",
    "df['CPM']= (df['Spend']/ df['Impressions']) *1000\n",
    "print(\"CPM column has been created\")\n",
    "\n",
    "df['Campaign Name']= df['Platform'] + \"-\" + df['Campaign Type']\n",
    "print (\"Campaign Name column has been created\")"
   ]
  },
  {
   "cell_type": "markdown",
   "id": "78ef88cd",
   "metadata": {},
   "source": [
    "# Checking types and also turning CPA, CPC and CPM into currency"
   ]
  },
  {
   "cell_type": "code",
   "execution_count": 8,
   "id": "7e5c36a4",
   "metadata": {},
   "outputs": [
    {
     "data": {
      "text/plain": [
       "Day               object\n",
       "Platform          object\n",
       "Campaign Type     object\n",
       "Impressions        int64\n",
       "Clicks             int64\n",
       "Conversions        int64\n",
       "Revenue           object\n",
       "Spend            float64\n",
       "Region            object\n",
       "AdCreative        object\n",
       "CPA              float64\n",
       "CTR              float64\n",
       "CPC              float64\n",
       "CPM              float64\n",
       "Campaign Name     object\n",
       "dtype: object"
      ]
     },
     "execution_count": 8,
     "metadata": {},
     "output_type": "execute_result"
    }
   ],
   "source": [
    "df.dtypes"
   ]
  },
  {
   "cell_type": "code",
   "execution_count": null,
   "id": "406e6eba",
   "metadata": {},
   "outputs": [],
   "source": [
    "df['CPA'] = '£' + df['CPA'].apply(lambda x: '{:.2f}'.format(x))\n",
    "df['CPC'] = '£' + df['CPC'].apply(lambda x: '{:.2f}'.format(x))\n",
    "df['CPM'] = '£' + df['CPM'].apply(lambda x: '{:.2f}'.format(x))"
   ]
  },
  {
   "cell_type": "code",
   "execution_count": 10,
   "id": "3ba65d4e",
   "metadata": {},
   "outputs": [
    {
     "name": "stdout",
     "output_type": "stream",
     "text": [
      "            Day   Platform Campaign Type  Impressions  Clicks  Conversions  \\\n",
      "0      01/01/23   SnapChat   Retargeting       102704    1593          157   \n",
      "1      01/01/23    YouTube   Retargeting        83904    1798          110   \n",
      "2      01/01/23     TikTok   Prospecting        77023    2644          261   \n",
      "3      01/01/23    YouTube   Retargeting        34385    1570           42   \n",
      "4      01/01/23    YouTube   Prospecting        78641    2731           11   \n",
      "...         ...        ...           ...          ...     ...          ...   \n",
      "19995  29/11/23   SnapChat   Prospecting        91465    1201           46   \n",
      "19996  29/11/23   Facebook   Prospecting        15414     134          173   \n",
      "19997  29/11/23   SnapChat   Prospecting        68686    1964          134   \n",
      "19998  29/11/23  Instagram   Retargeting        91967     365           29   \n",
      "19999  30/11/23   Facebook   Prospecting        51634     294          208   \n",
      "\n",
      "          Revenue    Spend            Region AdCreative      CPA       CTR  \\\n",
      "0       $3,910.74  2101.08     East Midlands  CreativeC   £13.38  0.015511   \n",
      "1      $11,700.93  6955.66     East Midlands  CreativeC   £63.23  0.021429   \n",
      "2       $9,756.09  1471.76        North East  CreativeB    £5.64  0.034327   \n",
      "3       $4,341.76   101.55            London  CreativeC    £2.42  0.045659   \n",
      "4       $8,860.43  1337.07     West Midlands  CreativeA  £121.55  0.034727   \n",
      "...           ...      ...               ...        ...      ...       ...   \n",
      "19995     $803.95  1461.74  Northern Ireland  CreativeA   £31.78  0.013131   \n",
      "19996   $7,311.93  4559.23            London  CreativeC   £26.35  0.008693   \n",
      "19997   $3,601.11  3650.29          Scotland  CreativeB   £27.24  0.028594   \n",
      "19998   $7,372.90   323.18     West Midlands  CreativeB   £11.14  0.003969   \n",
      "19999   $8,721.89  6925.09            London  CreativeC   £33.29  0.005694   \n",
      "\n",
      "          CPC      CPM          Campaign Name  \n",
      "0       £1.32   £20.46   SnapChat-Retargeting  \n",
      "1       £3.87   £82.90    YouTube-Retargeting  \n",
      "2       £0.56   £19.11     TikTok-Prospecting  \n",
      "3       £0.06    £2.95    YouTube-Retargeting  \n",
      "4       £0.49   £17.00    YouTube-Prospecting  \n",
      "...       ...      ...                    ...  \n",
      "19995   £1.22   £15.98   SnapChat-Prospecting  \n",
      "19996  £34.02  £295.79   Facebook-Prospecting  \n",
      "19997   £1.86   £53.14   SnapChat-Prospecting  \n",
      "19998   £0.89    £3.51  Instagram-Retargeting  \n",
      "19999  £23.55  £134.12   Facebook-Prospecting  \n",
      "\n",
      "[20000 rows x 15 columns]\n"
     ]
    }
   ],
   "source": [
    "print(df)"
   ]
  },
  {
   "cell_type": "markdown",
   "id": "99534cd5",
   "metadata": {},
   "source": [
    "# Changing Revenue from $ to £ and changing spend to currency"
   ]
  },
  {
   "cell_type": "code",
   "execution_count": 17,
   "id": "c835eef8",
   "metadata": {},
   "outputs": [],
   "source": [
    "df['Revenue'] = df['Revenue'].str.replace('$', '£')\n",
    "df['Spend'] = '£' + df['Spend'].astype(str)"
   ]
  },
  {
   "cell_type": "markdown",
   "id": "55937e6d",
   "metadata": {},
   "source": [
    "# Verify df(s)"
   ]
  },
  {
   "cell_type": "code",
   "execution_count": 20,
   "id": "a1e63a1f",
   "metadata": {},
   "outputs": [
    {
     "name": "stdout",
     "output_type": "stream",
     "text": [
      "            Day   Platform Campaign Type  Impressions  Clicks  Conversions  \\\n",
      "0      01/01/23   SnapChat   Retargeting       102704    1593          157   \n",
      "1      01/01/23    YouTube   Retargeting        83904    1798          110   \n",
      "2      01/01/23     TikTok   Prospecting        77023    2644          261   \n",
      "3      01/01/23    YouTube   Retargeting        34385    1570           42   \n",
      "4      01/01/23    YouTube   Prospecting        78641    2731           11   \n",
      "...         ...        ...           ...          ...     ...          ...   \n",
      "19995  29/11/23   SnapChat   Prospecting        91465    1201           46   \n",
      "19996  29/11/23   Facebook   Prospecting        15414     134          173   \n",
      "19997  29/11/23   SnapChat   Prospecting        68686    1964          134   \n",
      "19998  29/11/23  Instagram   Retargeting        91967     365           29   \n",
      "19999  30/11/23   Facebook   Prospecting        51634     294          208   \n",
      "\n",
      "            Revenue     Spend            Region AdCreative      CPA       CTR  \\\n",
      "0       £3,910.74££  £2101.08     East Midlands  CreativeC   £13.38  0.015511   \n",
      "1      £11,700.93££  £6955.66     East Midlands  CreativeC   £63.23  0.021429   \n",
      "2       £9,756.09££  £1471.76        North East  CreativeB    £5.64  0.034327   \n",
      "3       £4,341.76££   £101.55            London  CreativeC    £2.42  0.045659   \n",
      "4       £8,860.43££  £1337.07     West Midlands  CreativeA  £121.55  0.034727   \n",
      "...             ...       ...               ...        ...      ...       ...   \n",
      "19995     £803.95££  £1461.74  Northern Ireland  CreativeA   £31.78  0.013131   \n",
      "19996   £7,311.93££  £4559.23            London  CreativeC   £26.35  0.008693   \n",
      "19997   £3,601.11££  £3650.29          Scotland  CreativeB   £27.24  0.028594   \n",
      "19998   £7,372.90££   £323.18     West Midlands  CreativeB   £11.14  0.003969   \n",
      "19999   £8,721.89££  £6925.09            London  CreativeC   £33.29  0.005694   \n",
      "\n",
      "          CPC      CPM          Campaign Name  \n",
      "0       £1.32   £20.46   SnapChat-Retargeting  \n",
      "1       £3.87   £82.90    YouTube-Retargeting  \n",
      "2       £0.56   £19.11     TikTok-Prospecting  \n",
      "3       £0.06    £2.95    YouTube-Retargeting  \n",
      "4       £0.49   £17.00    YouTube-Prospecting  \n",
      "...       ...      ...                    ...  \n",
      "19995   £1.22   £15.98   SnapChat-Prospecting  \n",
      "19996  £34.02  £295.79   Facebook-Prospecting  \n",
      "19997   £1.86   £53.14   SnapChat-Prospecting  \n",
      "19998   £0.89    £3.51  Instagram-Retargeting  \n",
      "19999  £23.55  £134.12   Facebook-Prospecting  \n",
      "\n",
      "[20000 rows x 15 columns]\n"
     ]
    }
   ],
   "source": [
    "print(df)"
   ]
  },
  {
   "cell_type": "markdown",
   "id": "42b1c9af",
   "metadata": {},
   "source": [
    "# Re-order Columns"
   ]
  },
  {
   "cell_type": "code",
   "execution_count": 22,
   "id": "7742eb5e",
   "metadata": {},
   "outputs": [
    {
     "name": "stdout",
     "output_type": "stream",
     "text": [
      "Columns have been successfully re-ordered\n"
     ]
    }
   ],
   "source": [
    "df= df[['Day', 'Platform','Campaign Name', 'Campaign Type', 'Impressions', 'Clicks',\n",
    "       'Conversions', 'Revenue', 'Spend', 'Region', 'AdCreative', 'CTR', 'CPA',\n",
    "       'CPC', 'CPM']]\n",
    "print(\"Columns have been successfully re-ordered\")"
   ]
  },
  {
   "cell_type": "markdown",
   "id": "4c4d3b46",
   "metadata": {},
   "source": [
    "# Some basic statistics related to the marketing data"
   ]
  },
  {
   "cell_type": "code",
   "execution_count": 26,
   "id": "bec278be",
   "metadata": {},
   "outputs": [
    {
     "name": "stdout",
     "output_type": "stream",
     "text": [
      "        Impressions       Clicks   Conversions           CTR\n",
      "count   20000.00000  20000.00000  20000.000000  20000.000000\n",
      "mean    50381.32740   1299.40235     98.572150      0.062054\n",
      "std     29825.02892    998.95896     77.277841      0.157797\n",
      "min       802.00000      4.00000      6.000000      0.000044\n",
      "25%     25009.00000    361.00000     35.000000      0.008689\n",
      "50%     49386.50000   1164.00000     67.000000      0.024086\n",
      "75%     73852.25000   1994.00000    161.000000      0.051643\n",
      "max    119942.00000   3998.00000    299.000000      3.680872\n"
     ]
    }
   ],
   "source": [
    "statistics = df.describe()\n",
    "print(statistics)"
   ]
  },
  {
   "cell_type": "markdown",
   "id": "52b2a042",
   "metadata": {},
   "source": [
    "# Verify df(s)"
   ]
  },
  {
   "cell_type": "code",
   "execution_count": 28,
   "id": "df7615be",
   "metadata": {},
   "outputs": [
    {
     "data": {
      "text/html": [
       "<div>\n",
       "<style scoped>\n",
       "    .dataframe tbody tr th:only-of-type {\n",
       "        vertical-align: middle;\n",
       "    }\n",
       "\n",
       "    .dataframe tbody tr th {\n",
       "        vertical-align: top;\n",
       "    }\n",
       "\n",
       "    .dataframe thead th {\n",
       "        text-align: right;\n",
       "    }\n",
       "</style>\n",
       "<table border=\"1\" class=\"dataframe\">\n",
       "  <thead>\n",
       "    <tr style=\"text-align: right;\">\n",
       "      <th></th>\n",
       "      <th>Day</th>\n",
       "      <th>Platform</th>\n",
       "      <th>Campaign Name</th>\n",
       "      <th>Campaign Type</th>\n",
       "      <th>Impressions</th>\n",
       "      <th>Clicks</th>\n",
       "      <th>Conversions</th>\n",
       "      <th>Revenue</th>\n",
       "      <th>Spend</th>\n",
       "      <th>Region</th>\n",
       "      <th>AdCreative</th>\n",
       "      <th>CTR</th>\n",
       "      <th>CPA</th>\n",
       "      <th>CPC</th>\n",
       "      <th>CPM</th>\n",
       "    </tr>\n",
       "  </thead>\n",
       "  <tbody>\n",
       "    <tr>\n",
       "      <th>0</th>\n",
       "      <td>01/01/23</td>\n",
       "      <td>SnapChat</td>\n",
       "      <td>SnapChat-Retargeting</td>\n",
       "      <td>Retargeting</td>\n",
       "      <td>102704</td>\n",
       "      <td>1593</td>\n",
       "      <td>157</td>\n",
       "      <td>£3,910.74££</td>\n",
       "      <td>£2101.08</td>\n",
       "      <td>East Midlands</td>\n",
       "      <td>CreativeC</td>\n",
       "      <td>0.015511</td>\n",
       "      <td>£13.38</td>\n",
       "      <td>£1.32</td>\n",
       "      <td>£20.46</td>\n",
       "    </tr>\n",
       "    <tr>\n",
       "      <th>1</th>\n",
       "      <td>01/01/23</td>\n",
       "      <td>YouTube</td>\n",
       "      <td>YouTube-Retargeting</td>\n",
       "      <td>Retargeting</td>\n",
       "      <td>83904</td>\n",
       "      <td>1798</td>\n",
       "      <td>110</td>\n",
       "      <td>£11,700.93££</td>\n",
       "      <td>£6955.66</td>\n",
       "      <td>East Midlands</td>\n",
       "      <td>CreativeC</td>\n",
       "      <td>0.021429</td>\n",
       "      <td>£63.23</td>\n",
       "      <td>£3.87</td>\n",
       "      <td>£82.90</td>\n",
       "    </tr>\n",
       "    <tr>\n",
       "      <th>2</th>\n",
       "      <td>01/01/23</td>\n",
       "      <td>TikTok</td>\n",
       "      <td>TikTok-Prospecting</td>\n",
       "      <td>Prospecting</td>\n",
       "      <td>77023</td>\n",
       "      <td>2644</td>\n",
       "      <td>261</td>\n",
       "      <td>£9,756.09££</td>\n",
       "      <td>£1471.76</td>\n",
       "      <td>North East</td>\n",
       "      <td>CreativeB</td>\n",
       "      <td>0.034327</td>\n",
       "      <td>£5.64</td>\n",
       "      <td>£0.56</td>\n",
       "      <td>£19.11</td>\n",
       "    </tr>\n",
       "    <tr>\n",
       "      <th>3</th>\n",
       "      <td>01/01/23</td>\n",
       "      <td>YouTube</td>\n",
       "      <td>YouTube-Retargeting</td>\n",
       "      <td>Retargeting</td>\n",
       "      <td>34385</td>\n",
       "      <td>1570</td>\n",
       "      <td>42</td>\n",
       "      <td>£4,341.76££</td>\n",
       "      <td>£101.55</td>\n",
       "      <td>London</td>\n",
       "      <td>CreativeC</td>\n",
       "      <td>0.045659</td>\n",
       "      <td>£2.42</td>\n",
       "      <td>£0.06</td>\n",
       "      <td>£2.95</td>\n",
       "    </tr>\n",
       "    <tr>\n",
       "      <th>4</th>\n",
       "      <td>01/01/23</td>\n",
       "      <td>YouTube</td>\n",
       "      <td>YouTube-Prospecting</td>\n",
       "      <td>Prospecting</td>\n",
       "      <td>78641</td>\n",
       "      <td>2731</td>\n",
       "      <td>11</td>\n",
       "      <td>£8,860.43££</td>\n",
       "      <td>£1337.07</td>\n",
       "      <td>West Midlands</td>\n",
       "      <td>CreativeA</td>\n",
       "      <td>0.034727</td>\n",
       "      <td>£121.55</td>\n",
       "      <td>£0.49</td>\n",
       "      <td>£17.00</td>\n",
       "    </tr>\n",
       "  </tbody>\n",
       "</table>\n",
       "</div>"
      ],
      "text/plain": [
       "        Day  Platform         Campaign Name Campaign Type  Impressions  \\\n",
       "0  01/01/23  SnapChat  SnapChat-Retargeting   Retargeting       102704   \n",
       "1  01/01/23   YouTube   YouTube-Retargeting   Retargeting        83904   \n",
       "2  01/01/23    TikTok    TikTok-Prospecting   Prospecting        77023   \n",
       "3  01/01/23   YouTube   YouTube-Retargeting   Retargeting        34385   \n",
       "4  01/01/23   YouTube   YouTube-Prospecting   Prospecting        78641   \n",
       "\n",
       "   Clicks  Conversions       Revenue     Spend         Region AdCreative  \\\n",
       "0    1593          157   £3,910.74££  £2101.08  East Midlands  CreativeC   \n",
       "1    1798          110  £11,700.93££  £6955.66  East Midlands  CreativeC   \n",
       "2    2644          261   £9,756.09££  £1471.76     North East  CreativeB   \n",
       "3    1570           42   £4,341.76££   £101.55         London  CreativeC   \n",
       "4    2731           11   £8,860.43££  £1337.07  West Midlands  CreativeA   \n",
       "\n",
       "        CTR      CPA    CPC     CPM  \n",
       "0  0.015511   £13.38  £1.32  £20.46  \n",
       "1  0.021429   £63.23  £3.87  £82.90  \n",
       "2  0.034327    £5.64  £0.56  £19.11  \n",
       "3  0.045659    £2.42  £0.06   £2.95  \n",
       "4  0.034727  £121.55  £0.49  £17.00  "
      ]
     },
     "execution_count": 28,
     "metadata": {},
     "output_type": "execute_result"
    }
   ],
   "source": [
    "df.head()"
   ]
  },
  {
   "cell_type": "markdown",
   "id": "71f3e430",
   "metadata": {},
   "source": [
    "# Save to CSV"
   ]
  },
  {
   "cell_type": "code",
   "execution_count": 27,
   "id": "486042ec",
   "metadata": {},
   "outputs": [
    {
     "name": "stdout",
     "output_type": "stream",
     "text": [
      "CSV file marketing campaign has been saved successfully\n"
     ]
    }
   ],
   "source": [
    "df.to_csv('Marketingcleaningdata.csv')\n",
    "print(\"CSV file marketing campaign has been saved successfully\")"
   ]
  }
 ],
 "metadata": {
  "kernelspec": {
   "display_name": "Python 3 (ipykernel)",
   "language": "python",
   "name": "python3"
  },
  "language_info": {
   "codemirror_mode": {
    "name": "ipython",
    "version": 3
   },
   "file_extension": ".py",
   "mimetype": "text/x-python",
   "name": "python",
   "nbconvert_exporter": "python",
   "pygments_lexer": "ipython3",
   "version": "3.11.5"
  }
 },
 "nbformat": 4,
 "nbformat_minor": 5
}
