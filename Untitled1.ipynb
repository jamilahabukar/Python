{
 "cells": [
  {
   "cell_type": "code",
   "execution_count": 1,
   "id": "ed7c76d4",
   "metadata": {},
   "outputs": [
    {
     "data": {
      "text/plain": [
       "'/Users/jamilah/Python/Marketing'"
      ]
     },
     "execution_count": 1,
     "metadata": {},
     "output_type": "execute_result"
    }
   ],
   "source": [
    "pwd"
   ]
  },
  {
   "cell_type": "code",
   "execution_count": 2,
   "id": "af393432",
   "metadata": {},
   "outputs": [],
   "source": [
    "import pandas as pd"
   ]
  },
  {
   "cell_type": "code",
   "execution_count": 3,
   "id": "701c938d",
   "metadata": {},
   "outputs": [],
   "source": [
    "file_path= \"/Users/jamilah/Python/Marketing/marketing_campaign_data_py.csv\""
   ]
  },
  {
   "cell_type": "code",
   "execution_count": 4,
   "id": "c8102f2b",
   "metadata": {},
   "outputs": [
    {
     "name": "stdout",
     "output_type": "stream",
     "text": [
      "CSV file has been successfully read in.\n"
     ]
    }
   ],
   "source": [
    "df= pd.read_csv(file_path)\n",
    "print(\"CSV file has been successfully read in.\")"
   ]
  },
  {
   "cell_type": "code",
   "execution_count": 5,
   "id": "786cab59",
   "metadata": {},
   "outputs": [
    {
     "name": "stdout",
     "output_type": "stream",
     "text": [
      "           Date   Campaign Campaign Type  Impressions  Clicks  Conversions  \\\n",
      "0      01/01/23   SnapChat   Retargeting       102704    1593          157   \n",
      "1      01/01/23    YouTube   Retargeting        83904    1798          110   \n",
      "2      01/01/23     TikTok   Prospecting        77023    2644          261   \n",
      "3      01/01/23    YouTube   Retargeting        34385    1570           42   \n",
      "4      01/01/23    YouTube   Prospecting        78641    2731           11   \n",
      "...         ...        ...           ...          ...     ...          ...   \n",
      "19995  29/11/23   SnapChat   Prospecting        91465    1201           46   \n",
      "19996  29/11/23   Facebook   Prospecting        15414     134          173   \n",
      "19997  29/11/23   SnapChat   Prospecting        68686    1964          134   \n",
      "19998  29/11/23  Instagram   Retargeting        91967     365           29   \n",
      "19999  30/11/23   Facebook   Prospecting        51634     294          208   \n",
      "\n",
      "          Revenue       Cost            Region AdCreative  \n",
      "0       $3,910.74  $2,101.08     East Midlands  CreativeC  \n",
      "1      $11,700.93  $6,955.66     East Midlands  CreativeC  \n",
      "2       $9,756.09  $1,471.76        North East  CreativeB  \n",
      "3       $4,341.76    $101.55            London  CreativeC  \n",
      "4       $8,860.43  $1,337.07     West Midlands  CreativeA  \n",
      "...           ...        ...               ...        ...  \n",
      "19995     $803.95  $1,461.74  Northern Ireland  CreativeA  \n",
      "19996   $7,311.93  $4,559.23            London  CreativeC  \n",
      "19997   $3,601.11  $3,650.29          Scotland  CreativeB  \n",
      "19998   $7,372.90    $323.18     West Midlands  CreativeB  \n",
      "19999   $8,721.89  $6,925.09            London  CreativeC  \n",
      "\n",
      "[20000 rows x 10 columns]\n"
     ]
    }
   ],
   "source": [
    "print (df)"
   ]
  },
  {
   "cell_type": "code",
   "execution_count": 6,
   "id": "3de46991",
   "metadata": {},
   "outputs": [
    {
     "name": "stdout",
     "output_type": "stream",
     "text": [
      "Index(['Date', 'Campaign', 'Campaign Type', 'Impressions', 'Clicks',\n",
      "       'Conversions', 'Revenue', 'Cost', 'Region', 'AdCreative'],\n",
      "      dtype='object')\n"
     ]
    }
   ],
   "source": [
    "print(df.columns)"
   ]
  },
  {
   "cell_type": "code",
   "execution_count": 7,
   "id": "0240ba70",
   "metadata": {},
   "outputs": [
    {
     "data": {
      "text/html": [
       "<div>\n",
       "<style scoped>\n",
       "    .dataframe tbody tr th:only-of-type {\n",
       "        vertical-align: middle;\n",
       "    }\n",
       "\n",
       "    .dataframe tbody tr th {\n",
       "        vertical-align: top;\n",
       "    }\n",
       "\n",
       "    .dataframe thead th {\n",
       "        text-align: right;\n",
       "    }\n",
       "</style>\n",
       "<table border=\"1\" class=\"dataframe\">\n",
       "  <thead>\n",
       "    <tr style=\"text-align: right;\">\n",
       "      <th></th>\n",
       "      <th>Date</th>\n",
       "      <th>Campaign</th>\n",
       "      <th>Campaign Type</th>\n",
       "      <th>Impressions</th>\n",
       "      <th>Clicks</th>\n",
       "      <th>Conversions</th>\n",
       "      <th>Revenue</th>\n",
       "      <th>Cost</th>\n",
       "      <th>Region</th>\n",
       "      <th>AdCreative</th>\n",
       "    </tr>\n",
       "  </thead>\n",
       "  <tbody>\n",
       "    <tr>\n",
       "      <th>0</th>\n",
       "      <td>01/01/23</td>\n",
       "      <td>SnapChat</td>\n",
       "      <td>Retargeting</td>\n",
       "      <td>102704</td>\n",
       "      <td>1593</td>\n",
       "      <td>157</td>\n",
       "      <td>$3,910.74</td>\n",
       "      <td>$2,101.08</td>\n",
       "      <td>East Midlands</td>\n",
       "      <td>CreativeC</td>\n",
       "    </tr>\n",
       "    <tr>\n",
       "      <th>1</th>\n",
       "      <td>01/01/23</td>\n",
       "      <td>YouTube</td>\n",
       "      <td>Retargeting</td>\n",
       "      <td>83904</td>\n",
       "      <td>1798</td>\n",
       "      <td>110</td>\n",
       "      <td>$11,700.93</td>\n",
       "      <td>$6,955.66</td>\n",
       "      <td>East Midlands</td>\n",
       "      <td>CreativeC</td>\n",
       "    </tr>\n",
       "    <tr>\n",
       "      <th>2</th>\n",
       "      <td>01/01/23</td>\n",
       "      <td>TikTok</td>\n",
       "      <td>Prospecting</td>\n",
       "      <td>77023</td>\n",
       "      <td>2644</td>\n",
       "      <td>261</td>\n",
       "      <td>$9,756.09</td>\n",
       "      <td>$1,471.76</td>\n",
       "      <td>North East</td>\n",
       "      <td>CreativeB</td>\n",
       "    </tr>\n",
       "    <tr>\n",
       "      <th>3</th>\n",
       "      <td>01/01/23</td>\n",
       "      <td>YouTube</td>\n",
       "      <td>Retargeting</td>\n",
       "      <td>34385</td>\n",
       "      <td>1570</td>\n",
       "      <td>42</td>\n",
       "      <td>$4,341.76</td>\n",
       "      <td>$101.55</td>\n",
       "      <td>London</td>\n",
       "      <td>CreativeC</td>\n",
       "    </tr>\n",
       "    <tr>\n",
       "      <th>4</th>\n",
       "      <td>01/01/23</td>\n",
       "      <td>YouTube</td>\n",
       "      <td>Prospecting</td>\n",
       "      <td>78641</td>\n",
       "      <td>2731</td>\n",
       "      <td>11</td>\n",
       "      <td>$8,860.43</td>\n",
       "      <td>$1,337.07</td>\n",
       "      <td>West Midlands</td>\n",
       "      <td>CreativeA</td>\n",
       "    </tr>\n",
       "  </tbody>\n",
       "</table>\n",
       "</div>"
      ],
      "text/plain": [
       "       Date  Campaign Campaign Type  Impressions  Clicks  Conversions  \\\n",
       "0  01/01/23  SnapChat   Retargeting       102704    1593          157   \n",
       "1  01/01/23   YouTube   Retargeting        83904    1798          110   \n",
       "2  01/01/23    TikTok   Prospecting        77023    2644          261   \n",
       "3  01/01/23   YouTube   Retargeting        34385    1570           42   \n",
       "4  01/01/23   YouTube   Prospecting        78641    2731           11   \n",
       "\n",
       "      Revenue       Cost         Region AdCreative  \n",
       "0   $3,910.74  $2,101.08  East Midlands  CreativeC  \n",
       "1  $11,700.93  $6,955.66  East Midlands  CreativeC  \n",
       "2   $9,756.09  $1,471.76     North East  CreativeB  \n",
       "3   $4,341.76    $101.55         London  CreativeC  \n",
       "4   $8,860.43  $1,337.07  West Midlands  CreativeA  "
      ]
     },
     "execution_count": 7,
     "metadata": {},
     "output_type": "execute_result"
    }
   ],
   "source": [
    "df.head()"
   ]
  },
  {
   "cell_type": "code",
   "execution_count": null,
   "id": "31aa0d1f",
   "metadata": {},
   "outputs": [],
   "source": []
  }
 ],
 "metadata": {
  "kernelspec": {
   "display_name": "Python 3 (ipykernel)",
   "language": "python",
   "name": "python3"
  },
  "language_info": {
   "codemirror_mode": {
    "name": "ipython",
    "version": 3
   },
   "file_extension": ".py",
   "mimetype": "text/x-python",
   "name": "python",
   "nbconvert_exporter": "python",
   "pygments_lexer": "ipython3",
   "version": "3.11.5"
  }
 },
 "nbformat": 4,
 "nbformat_minor": 5
}
