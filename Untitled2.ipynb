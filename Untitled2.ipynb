{
 "cells": [
  {
   "cell_type": "code",
   "execution_count": 1,
   "id": "7b251a1e",
   "metadata": {},
   "outputs": [
    {
     "data": {
      "text/plain": [
       "'/Users/jamilah/Python/Marketing'"
      ]
     },
     "execution_count": 1,
     "metadata": {},
     "output_type": "execute_result"
    }
   ],
   "source": [
    "pwd"
   ]
  },
  {
   "cell_type": "code",
   "execution_count": 2,
   "id": "1fa25e31",
   "metadata": {},
   "outputs": [],
   "source": [
    "import pandas as pd"
   ]
  },
  {
   "cell_type": "code",
   "execution_count": 5,
   "id": "b015bfba",
   "metadata": {},
   "outputs": [],
   "source": [
    "file_path= \"/Users/jamilah/Python/Marketing/marketing_campaign_data_py.csv\""
   ]
  },
  {
   "cell_type": "code",
   "execution_count": 6,
   "id": "3be67f7c",
   "metadata": {},
   "outputs": [
    {
     "name": "stdout",
     "output_type": "stream",
     "text": [
      "CSV file has been successfully read in.\n"
     ]
    }
   ],
   "source": [
    "df = pd.read_csv(file_path)\n",
    "print (\"CSV file has been successfully read in.\")"
   ]
  },
  {
   "cell_type": "code",
   "execution_count": 7,
   "id": "53af1917",
   "metadata": {},
   "outputs": [
    {
     "name": "stdout",
     "output_type": "stream",
     "text": [
      "           Date   Campaign Campaign Type  Impressions  Clicks  Conversions  \\\n",
      "0      01/01/23   SnapChat   Retargeting       102704    1593          157   \n",
      "1      01/01/23    YouTube   Retargeting        83904    1798          110   \n",
      "2      01/01/23     TikTok   Prospecting        77023    2644          261   \n",
      "3      01/01/23    YouTube   Retargeting        34385    1570           42   \n",
      "4      01/01/23    YouTube   Prospecting        78641    2731           11   \n",
      "...         ...        ...           ...          ...     ...          ...   \n",
      "19995  29/11/23   SnapChat   Prospecting        91465    1201           46   \n",
      "19996  29/11/23   Facebook   Prospecting        15414     134          173   \n",
      "19997  29/11/23   SnapChat   Prospecting        68686    1964          134   \n",
      "19998  29/11/23  Instagram   Retargeting        91967     365           29   \n",
      "19999  30/11/23   Facebook   Prospecting        51634     294          208   \n",
      "\n",
      "          Revenue       Cost            Region AdCreative  \n",
      "0       $3,910.74  $2,101.08     East Midlands  CreativeC  \n",
      "1      $11,700.93  $6,955.66     East Midlands  CreativeC  \n",
      "2       $9,756.09  $1,471.76        North East  CreativeB  \n",
      "3       $4,341.76    $101.55            London  CreativeC  \n",
      "4       $8,860.43  $1,337.07     West Midlands  CreativeA  \n",
      "...           ...        ...               ...        ...  \n",
      "19995     $803.95  $1,461.74  Northern Ireland  CreativeA  \n",
      "19996   $7,311.93  $4,559.23            London  CreativeC  \n",
      "19997   $3,601.11  $3,650.29          Scotland  CreativeB  \n",
      "19998   $7,372.90    $323.18     West Midlands  CreativeB  \n",
      "19999   $8,721.89  $6,925.09            London  CreativeC  \n",
      "\n",
      "[20000 rows x 10 columns]\n"
     ]
    }
   ],
   "source": [
    "print(df)"
   ]
  },
  {
   "cell_type": "code",
   "execution_count": 8,
   "id": "8a2d49d4",
   "metadata": {},
   "outputs": [
    {
     "name": "stdout",
     "output_type": "stream",
     "text": [
      "Index(['Date', 'Campaign', 'Campaign Type', 'Impressions', 'Clicks',\n",
      "       'Conversions', 'Revenue', 'Cost', 'Region', 'AdCreative'],\n",
      "      dtype='object')\n"
     ]
    }
   ],
   "source": [
    "print(df.columns)"
   ]
  },
  {
   "cell_type": "code",
   "execution_count": 9,
   "id": "eb77652f",
   "metadata": {},
   "outputs": [
    {
     "data": {
      "text/html": [
       "<div>\n",
       "<style scoped>\n",
       "    .dataframe tbody tr th:only-of-type {\n",
       "        vertical-align: middle;\n",
       "    }\n",
       "\n",
       "    .dataframe tbody tr th {\n",
       "        vertical-align: top;\n",
       "    }\n",
       "\n",
       "    .dataframe thead th {\n",
       "        text-align: right;\n",
       "    }\n",
       "</style>\n",
       "<table border=\"1\" class=\"dataframe\">\n",
       "  <thead>\n",
       "    <tr style=\"text-align: right;\">\n",
       "      <th></th>\n",
       "      <th>Date</th>\n",
       "      <th>Campaign</th>\n",
       "      <th>Campaign Type</th>\n",
       "      <th>Impressions</th>\n",
       "      <th>Clicks</th>\n",
       "      <th>Conversions</th>\n",
       "      <th>Revenue</th>\n",
       "      <th>Cost</th>\n",
       "      <th>Region</th>\n",
       "      <th>AdCreative</th>\n",
       "    </tr>\n",
       "  </thead>\n",
       "  <tbody>\n",
       "    <tr>\n",
       "      <th>0</th>\n",
       "      <td>01/01/23</td>\n",
       "      <td>SnapChat</td>\n",
       "      <td>Retargeting</td>\n",
       "      <td>102704</td>\n",
       "      <td>1593</td>\n",
       "      <td>157</td>\n",
       "      <td>$3,910.74</td>\n",
       "      <td>$2,101.08</td>\n",
       "      <td>East Midlands</td>\n",
       "      <td>CreativeC</td>\n",
       "    </tr>\n",
       "    <tr>\n",
       "      <th>1</th>\n",
       "      <td>01/01/23</td>\n",
       "      <td>YouTube</td>\n",
       "      <td>Retargeting</td>\n",
       "      <td>83904</td>\n",
       "      <td>1798</td>\n",
       "      <td>110</td>\n",
       "      <td>$11,700.93</td>\n",
       "      <td>$6,955.66</td>\n",
       "      <td>East Midlands</td>\n",
       "      <td>CreativeC</td>\n",
       "    </tr>\n",
       "    <tr>\n",
       "      <th>2</th>\n",
       "      <td>01/01/23</td>\n",
       "      <td>TikTok</td>\n",
       "      <td>Prospecting</td>\n",
       "      <td>77023</td>\n",
       "      <td>2644</td>\n",
       "      <td>261</td>\n",
       "      <td>$9,756.09</td>\n",
       "      <td>$1,471.76</td>\n",
       "      <td>North East</td>\n",
       "      <td>CreativeB</td>\n",
       "    </tr>\n",
       "    <tr>\n",
       "      <th>3</th>\n",
       "      <td>01/01/23</td>\n",
       "      <td>YouTube</td>\n",
       "      <td>Retargeting</td>\n",
       "      <td>34385</td>\n",
       "      <td>1570</td>\n",
       "      <td>42</td>\n",
       "      <td>$4,341.76</td>\n",
       "      <td>$101.55</td>\n",
       "      <td>London</td>\n",
       "      <td>CreativeC</td>\n",
       "    </tr>\n",
       "    <tr>\n",
       "      <th>4</th>\n",
       "      <td>01/01/23</td>\n",
       "      <td>YouTube</td>\n",
       "      <td>Prospecting</td>\n",
       "      <td>78641</td>\n",
       "      <td>2731</td>\n",
       "      <td>11</td>\n",
       "      <td>$8,860.43</td>\n",
       "      <td>$1,337.07</td>\n",
       "      <td>West Midlands</td>\n",
       "      <td>CreativeA</td>\n",
       "    </tr>\n",
       "  </tbody>\n",
       "</table>\n",
       "</div>"
      ],
      "text/plain": [
       "       Date  Campaign Campaign Type  Impressions  Clicks  Conversions  \\\n",
       "0  01/01/23  SnapChat   Retargeting       102704    1593          157   \n",
       "1  01/01/23   YouTube   Retargeting        83904    1798          110   \n",
       "2  01/01/23    TikTok   Prospecting        77023    2644          261   \n",
       "3  01/01/23   YouTube   Retargeting        34385    1570           42   \n",
       "4  01/01/23   YouTube   Prospecting        78641    2731           11   \n",
       "\n",
       "      Revenue       Cost         Region AdCreative  \n",
       "0   $3,910.74  $2,101.08  East Midlands  CreativeC  \n",
       "1  $11,700.93  $6,955.66  East Midlands  CreativeC  \n",
       "2   $9,756.09  $1,471.76     North East  CreativeB  \n",
       "3   $4,341.76    $101.55         London  CreativeC  \n",
       "4   $8,860.43  $1,337.07  West Midlands  CreativeA  "
      ]
     },
     "execution_count": 9,
     "metadata": {},
     "output_type": "execute_result"
    }
   ],
   "source": [
    "df.head()"
   ]
  },
  {
   "cell_type": "code",
   "execution_count": 10,
   "id": "a68e7c2a",
   "metadata": {},
   "outputs": [
    {
     "name": "stdout",
     "output_type": "stream",
     "text": [
      "Column names campaign, date and cost have been renamed\n"
     ]
    }
   ],
   "source": [
    " df.rename(columns={'Date': 'Day', 'Cost': 'Spend','Campaign': 'Platform'}, inplace=True)\n",
    "print (\"Column names campaign, date and cost have been renamed\")"
   ]
  },
  {
   "cell_type": "code",
   "execution_count": 22,
   "id": "70cbefe1",
   "metadata": {},
   "outputs": [
    {
     "data": {
      "text/html": [
       "<div>\n",
       "<style scoped>\n",
       "    .dataframe tbody tr th:only-of-type {\n",
       "        vertical-align: middle;\n",
       "    }\n",
       "\n",
       "    .dataframe tbody tr th {\n",
       "        vertical-align: top;\n",
       "    }\n",
       "\n",
       "    .dataframe thead th {\n",
       "        text-align: right;\n",
       "    }\n",
       "</style>\n",
       "<table border=\"1\" class=\"dataframe\">\n",
       "  <thead>\n",
       "    <tr style=\"text-align: right;\">\n",
       "      <th></th>\n",
       "      <th>Day</th>\n",
       "      <th>Platform</th>\n",
       "      <th>Campaign Type</th>\n",
       "      <th>Impressions</th>\n",
       "      <th>Clicks</th>\n",
       "      <th>Conversions</th>\n",
       "      <th>Revenue</th>\n",
       "      <th>Spend</th>\n",
       "      <th>Region</th>\n",
       "      <th>AdCreative</th>\n",
       "      <th>CPA</th>\n",
       "      <th>CTR</th>\n",
       "      <th>CPC</th>\n",
       "      <th>CPM</th>\n",
       "    </tr>\n",
       "  </thead>\n",
       "  <tbody>\n",
       "    <tr>\n",
       "      <th>0</th>\n",
       "      <td>01/01/23</td>\n",
       "      <td>SnapChat</td>\n",
       "      <td>Retargeting</td>\n",
       "      <td>102704</td>\n",
       "      <td>1593</td>\n",
       "      <td>157</td>\n",
       "      <td>$3,910.74</td>\n",
       "      <td>2101.08</td>\n",
       "      <td>East Midlands</td>\n",
       "      <td>CreativeC</td>\n",
       "      <td>13.382675</td>\n",
       "      <td>1.551059</td>\n",
       "      <td>1.318945</td>\n",
       "      <td>20.457626</td>\n",
       "    </tr>\n",
       "    <tr>\n",
       "      <th>1</th>\n",
       "      <td>01/01/23</td>\n",
       "      <td>YouTube</td>\n",
       "      <td>Retargeting</td>\n",
       "      <td>83904</td>\n",
       "      <td>1798</td>\n",
       "      <td>110</td>\n",
       "      <td>$11,700.93</td>\n",
       "      <td>6955.66</td>\n",
       "      <td>East Midlands</td>\n",
       "      <td>CreativeC</td>\n",
       "      <td>63.233273</td>\n",
       "      <td>2.142925</td>\n",
       "      <td>3.868554</td>\n",
       "      <td>82.900219</td>\n",
       "    </tr>\n",
       "    <tr>\n",
       "      <th>2</th>\n",
       "      <td>01/01/23</td>\n",
       "      <td>TikTok</td>\n",
       "      <td>Prospecting</td>\n",
       "      <td>77023</td>\n",
       "      <td>2644</td>\n",
       "      <td>261</td>\n",
       "      <td>$9,756.09</td>\n",
       "      <td>1471.76</td>\n",
       "      <td>North East</td>\n",
       "      <td>CreativeB</td>\n",
       "      <td>5.638927</td>\n",
       "      <td>3.432741</td>\n",
       "      <td>0.556641</td>\n",
       "      <td>19.108059</td>\n",
       "    </tr>\n",
       "    <tr>\n",
       "      <th>3</th>\n",
       "      <td>01/01/23</td>\n",
       "      <td>YouTube</td>\n",
       "      <td>Retargeting</td>\n",
       "      <td>34385</td>\n",
       "      <td>1570</td>\n",
       "      <td>42</td>\n",
       "      <td>$4,341.76</td>\n",
       "      <td>101.55</td>\n",
       "      <td>London</td>\n",
       "      <td>CreativeC</td>\n",
       "      <td>2.417857</td>\n",
       "      <td>4.565944</td>\n",
       "      <td>0.064682</td>\n",
       "      <td>2.953323</td>\n",
       "    </tr>\n",
       "    <tr>\n",
       "      <th>4</th>\n",
       "      <td>01/01/23</td>\n",
       "      <td>YouTube</td>\n",
       "      <td>Prospecting</td>\n",
       "      <td>78641</td>\n",
       "      <td>2731</td>\n",
       "      <td>11</td>\n",
       "      <td>$8,860.43</td>\n",
       "      <td>1337.07</td>\n",
       "      <td>West Midlands</td>\n",
       "      <td>CreativeA</td>\n",
       "      <td>121.551818</td>\n",
       "      <td>3.472743</td>\n",
       "      <td>0.489590</td>\n",
       "      <td>17.002200</td>\n",
       "    </tr>\n",
       "  </tbody>\n",
       "</table>\n",
       "</div>"
      ],
      "text/plain": [
       "        Day  Platform Campaign Type  Impressions  Clicks  Conversions  \\\n",
       "0  01/01/23  SnapChat   Retargeting       102704    1593          157   \n",
       "1  01/01/23   YouTube   Retargeting        83904    1798          110   \n",
       "2  01/01/23    TikTok   Prospecting        77023    2644          261   \n",
       "3  01/01/23   YouTube   Retargeting        34385    1570           42   \n",
       "4  01/01/23   YouTube   Prospecting        78641    2731           11   \n",
       "\n",
       "      Revenue    Spend         Region AdCreative         CPA       CTR  \\\n",
       "0   $3,910.74  2101.08  East Midlands  CreativeC   13.382675  1.551059   \n",
       "1  $11,700.93  6955.66  East Midlands  CreativeC   63.233273  2.142925   \n",
       "2   $9,756.09  1471.76     North East  CreativeB    5.638927  3.432741   \n",
       "3   $4,341.76   101.55         London  CreativeC    2.417857  4.565944   \n",
       "4   $8,860.43  1337.07  West Midlands  CreativeA  121.551818  3.472743   \n",
       "\n",
       "        CPC        CPM  \n",
       "0  1.318945  20.457626  \n",
       "1  3.868554  82.900219  \n",
       "2  0.556641  19.108059  \n",
       "3  0.064682   2.953323  \n",
       "4  0.489590  17.002200  "
      ]
     },
     "execution_count": 22,
     "metadata": {},
     "output_type": "execute_result"
    }
   ],
   "source": [
    "df.head()"
   ]
  },
  {
   "cell_type": "code",
   "execution_count": 21,
   "id": "8a054cd9",
   "metadata": {},
   "outputs": [
    {
     "ename": "AttributeError",
     "evalue": "Can only use .str accessor with string values!",
     "output_type": "error",
     "traceback": [
      "\u001b[0;31m---------------------------------------------------------------------------\u001b[0m",
      "\u001b[0;31mAttributeError\u001b[0m                            Traceback (most recent call last)",
      "Cell \u001b[0;32mIn[21], line 1\u001b[0m\n\u001b[0;32m----> 1\u001b[0m df[\u001b[38;5;124m'\u001b[39m\u001b[38;5;124mSpend\u001b[39m\u001b[38;5;124m'\u001b[39m] \u001b[38;5;241m=\u001b[39m df[\u001b[38;5;124m'\u001b[39m\u001b[38;5;124mSpend\u001b[39m\u001b[38;5;124m'\u001b[39m]\u001b[38;5;241m.\u001b[39mstr\u001b[38;5;241m.\u001b[39mreplace(\u001b[38;5;124m'\u001b[39m\u001b[38;5;124m[\u001b[39m\u001b[38;5;124m\\\u001b[39m\u001b[38;5;124m$,]\u001b[39m\u001b[38;5;124m'\u001b[39m, \u001b[38;5;124m'\u001b[39m\u001b[38;5;124m'\u001b[39m, regex\u001b[38;5;241m=\u001b[39m\u001b[38;5;28;01mTrue\u001b[39;00m)\u001b[38;5;241m.\u001b[39mastype(\u001b[38;5;28mfloat\u001b[39m)\n",
      "File \u001b[0;32m~/anaconda3/lib/python3.11/site-packages/pandas/core/generic.py:5989\u001b[0m, in \u001b[0;36mNDFrame.__getattr__\u001b[0;34m(self, name)\u001b[0m\n\u001b[1;32m   5982\u001b[0m \u001b[38;5;28;01mif\u001b[39;00m (\n\u001b[1;32m   5983\u001b[0m     name \u001b[38;5;129;01mnot\u001b[39;00m \u001b[38;5;129;01min\u001b[39;00m \u001b[38;5;28mself\u001b[39m\u001b[38;5;241m.\u001b[39m_internal_names_set\n\u001b[1;32m   5984\u001b[0m     \u001b[38;5;129;01mand\u001b[39;00m name \u001b[38;5;129;01mnot\u001b[39;00m \u001b[38;5;129;01min\u001b[39;00m \u001b[38;5;28mself\u001b[39m\u001b[38;5;241m.\u001b[39m_metadata\n\u001b[1;32m   5985\u001b[0m     \u001b[38;5;129;01mand\u001b[39;00m name \u001b[38;5;129;01mnot\u001b[39;00m \u001b[38;5;129;01min\u001b[39;00m \u001b[38;5;28mself\u001b[39m\u001b[38;5;241m.\u001b[39m_accessors\n\u001b[1;32m   5986\u001b[0m     \u001b[38;5;129;01mand\u001b[39;00m \u001b[38;5;28mself\u001b[39m\u001b[38;5;241m.\u001b[39m_info_axis\u001b[38;5;241m.\u001b[39m_can_hold_identifiers_and_holds_name(name)\n\u001b[1;32m   5987\u001b[0m ):\n\u001b[1;32m   5988\u001b[0m     \u001b[38;5;28;01mreturn\u001b[39;00m \u001b[38;5;28mself\u001b[39m[name]\n\u001b[0;32m-> 5989\u001b[0m \u001b[38;5;28;01mreturn\u001b[39;00m \u001b[38;5;28mobject\u001b[39m\u001b[38;5;241m.\u001b[39m\u001b[38;5;21m__getattribute__\u001b[39m(\u001b[38;5;28mself\u001b[39m, name)\n",
      "File \u001b[0;32m~/anaconda3/lib/python3.11/site-packages/pandas/core/accessor.py:224\u001b[0m, in \u001b[0;36mCachedAccessor.__get__\u001b[0;34m(self, obj, cls)\u001b[0m\n\u001b[1;32m    221\u001b[0m \u001b[38;5;28;01mif\u001b[39;00m obj \u001b[38;5;129;01mis\u001b[39;00m \u001b[38;5;28;01mNone\u001b[39;00m:\n\u001b[1;32m    222\u001b[0m     \u001b[38;5;66;03m# we're accessing the attribute of the class, i.e., Dataset.geo\u001b[39;00m\n\u001b[1;32m    223\u001b[0m     \u001b[38;5;28;01mreturn\u001b[39;00m \u001b[38;5;28mself\u001b[39m\u001b[38;5;241m.\u001b[39m_accessor\n\u001b[0;32m--> 224\u001b[0m accessor_obj \u001b[38;5;241m=\u001b[39m \u001b[38;5;28mself\u001b[39m\u001b[38;5;241m.\u001b[39m_accessor(obj)\n\u001b[1;32m    225\u001b[0m \u001b[38;5;66;03m# Replace the property with the accessor object. Inspired by:\u001b[39;00m\n\u001b[1;32m    226\u001b[0m \u001b[38;5;66;03m# https://www.pydanny.com/cached-property.html\u001b[39;00m\n\u001b[1;32m    227\u001b[0m \u001b[38;5;66;03m# We need to use object.__setattr__ because we overwrite __setattr__ on\u001b[39;00m\n\u001b[1;32m    228\u001b[0m \u001b[38;5;66;03m# NDFrame\u001b[39;00m\n\u001b[1;32m    229\u001b[0m \u001b[38;5;28mobject\u001b[39m\u001b[38;5;241m.\u001b[39m\u001b[38;5;21m__setattr__\u001b[39m(obj, \u001b[38;5;28mself\u001b[39m\u001b[38;5;241m.\u001b[39m_name, accessor_obj)\n",
      "File \u001b[0;32m~/anaconda3/lib/python3.11/site-packages/pandas/core/strings/accessor.py:181\u001b[0m, in \u001b[0;36mStringMethods.__init__\u001b[0;34m(self, data)\u001b[0m\n\u001b[1;32m    178\u001b[0m \u001b[38;5;28;01mdef\u001b[39;00m \u001b[38;5;21m__init__\u001b[39m(\u001b[38;5;28mself\u001b[39m, data) \u001b[38;5;241m-\u001b[39m\u001b[38;5;241m>\u001b[39m \u001b[38;5;28;01mNone\u001b[39;00m:\n\u001b[1;32m    179\u001b[0m     \u001b[38;5;28;01mfrom\u001b[39;00m \u001b[38;5;21;01mpandas\u001b[39;00m\u001b[38;5;21;01m.\u001b[39;00m\u001b[38;5;21;01mcore\u001b[39;00m\u001b[38;5;21;01m.\u001b[39;00m\u001b[38;5;21;01marrays\u001b[39;00m\u001b[38;5;21;01m.\u001b[39;00m\u001b[38;5;21;01mstring_\u001b[39;00m \u001b[38;5;28;01mimport\u001b[39;00m StringDtype\n\u001b[0;32m--> 181\u001b[0m     \u001b[38;5;28mself\u001b[39m\u001b[38;5;241m.\u001b[39m_inferred_dtype \u001b[38;5;241m=\u001b[39m \u001b[38;5;28mself\u001b[39m\u001b[38;5;241m.\u001b[39m_validate(data)\n\u001b[1;32m    182\u001b[0m     \u001b[38;5;28mself\u001b[39m\u001b[38;5;241m.\u001b[39m_is_categorical \u001b[38;5;241m=\u001b[39m is_categorical_dtype(data\u001b[38;5;241m.\u001b[39mdtype)\n\u001b[1;32m    183\u001b[0m     \u001b[38;5;28mself\u001b[39m\u001b[38;5;241m.\u001b[39m_is_string \u001b[38;5;241m=\u001b[39m \u001b[38;5;28misinstance\u001b[39m(data\u001b[38;5;241m.\u001b[39mdtype, StringDtype)\n",
      "File \u001b[0;32m~/anaconda3/lib/python3.11/site-packages/pandas/core/strings/accessor.py:235\u001b[0m, in \u001b[0;36mStringMethods._validate\u001b[0;34m(data)\u001b[0m\n\u001b[1;32m    232\u001b[0m inferred_dtype \u001b[38;5;241m=\u001b[39m lib\u001b[38;5;241m.\u001b[39minfer_dtype(values, skipna\u001b[38;5;241m=\u001b[39m\u001b[38;5;28;01mTrue\u001b[39;00m)\n\u001b[1;32m    234\u001b[0m \u001b[38;5;28;01mif\u001b[39;00m inferred_dtype \u001b[38;5;129;01mnot\u001b[39;00m \u001b[38;5;129;01min\u001b[39;00m allowed_types:\n\u001b[0;32m--> 235\u001b[0m     \u001b[38;5;28;01mraise\u001b[39;00m \u001b[38;5;167;01mAttributeError\u001b[39;00m(\u001b[38;5;124m\"\u001b[39m\u001b[38;5;124mCan only use .str accessor with string values!\u001b[39m\u001b[38;5;124m\"\u001b[39m)\n\u001b[1;32m    236\u001b[0m \u001b[38;5;28;01mreturn\u001b[39;00m inferred_dtype\n",
      "\u001b[0;31mAttributeError\u001b[0m: Can only use .str accessor with string values!"
     ]
    }
   ],
   "source": [
    "df['Spend'] = df['Spend'].str.replace('[\\$,]', '', regex=True).astype(float)\n",
    "\n"
   ]
  },
  {
   "cell_type": "code",
   "execution_count": null,
   "id": "75fd0eb1",
   "metadata": {},
   "outputs": [],
   "source": []
  }
 ],
 "metadata": {
  "kernelspec": {
   "display_name": "Python 3 (ipykernel)",
   "language": "python",
   "name": "python3"
  },
  "language_info": {
   "codemirror_mode": {
    "name": "ipython",
    "version": 3
   },
   "file_extension": ".py",
   "mimetype": "text/x-python",
   "name": "python",
   "nbconvert_exporter": "python",
   "pygments_lexer": "ipython3",
   "version": "3.11.5"
  }
 },
 "nbformat": 4,
 "nbformat_minor": 5
}
